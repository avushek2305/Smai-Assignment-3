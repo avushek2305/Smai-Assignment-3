{
  "cells": [
    {
      "cell_type": "markdown",
      "metadata": {
        "id": "view-in-github",
        "colab_type": "text"
      },
      "source": [
        "<a href=\"https://colab.research.google.com/github/avushek2305/Smai-Assignment-3/blob/main/Knowing_MLPs.ipynb\" target=\"_parent\"><img src=\"https://colab.research.google.com/assets/colab-badge.svg\" alt=\"Open In Colab\"/></a>"
      ]
    },
    {
      "cell_type": "markdown",
      "metadata": {
        "id": "a736d316-20aa-4263-84c3-8afc5c4a9cc6"
      },
      "source": [
        "# SMAI Assignment - 3\n",
        "\n",
        "## Question - `3` : Knowing MLPs\n",
        "\n",
        "| | |\n",
        "|- | -|\n",
        "| Course | Statistical Methods in AI |\n",
        "| Release Date | `09.03.2023` |\n",
        "| Due Date | `24.03.2023` |"
      ],
      "id": "a736d316-20aa-4263-84c3-8afc5c4a9cc6"
    },
    {
      "cell_type": "markdown",
      "metadata": {
        "id": "1c86307a-7690-40cf-9eb2-e29fab7b15b5"
      },
      "source": [
        "## Please read the following before moving on\n",
        "\n",
        "Welcome to the world of Multilayer Perceptrons (MLP)! You already know that MLPs are feedforward neural networks consisting of multiple layers of nodes or neurons. These networks are well-suited for a wide range of classification and regression tasks, thanks to their ability to learn complex, non-linear relationships between inputs and outputs.\n",
        "\n",
        "In this assignment, we will be working with the MNIST dataset to explore the importance of different MLP components. The MNIST dataset consists of 70,000 handwritten digit images, each of which is 28x28 pixels in size. Our goal is to use an MLP to classify these images into one of 10 categories (0-9).\n",
        "\n",
        "To improve the performance of our MLP, we will experiment with various techniques such as Dropout, Batch Normalization, Loss Functions, Stochastic batch and mini-batch gradient descent, and more. Please note, you must use mini-batch unless explicity specified.\n",
        "\n",
        "In addition, we will experiment with different optimization algorithms such as stochastic gradient descent, Adam, and RMSprop to find the optimal weights and biases for our MLP. We will use stochastic batch and mini-batch gradient descent, which involve updating the weights and biases of the network based on a small batch of randomly sampled training examples, to speed up the training process and reduce memory usage.\n",
        "\n",
        "By the end of this assignment, you will have gained a deeper understanding of the various components that make up an MLP and their importance in achieving high performance in classification tasks. You will have gained hands-on experience in experimenting with these components and learned how to fine-tune an MLP to achieve the best possible performance on the MNIST dataset. So, let's get started!\n",
        "\n",
        "🫵Pro-tip: Do not re-write any results so as to re-use them in later experiments for tabulation and plotting.\n",
        "\n",
        "💭Trivia: Did you know code written using ChatGPT is easy to catch?"
      ],
      "id": "1c86307a-7690-40cf-9eb2-e29fab7b15b5"
    },
    {
      "cell_type": "markdown",
      "metadata": {
        "id": "436f25c4"
      },
      "source": [
        "### Step zero: Import Libraries"
      ],
      "id": "436f25c4"
    },
    {
      "cell_type": "code",
      "execution_count": 1,
      "metadata": {
        "id": "1009eb09"
      },
      "outputs": [],
      "source": [
        "import warnings\n",
        "warnings.filterwarnings(\"ignore\")\n",
        "\n",
        "import numpy as np\n",
        "import pandas as pd\n",
        "\n",
        "import matplotlib\n",
        "import seaborn as sns\n",
        "%matplotlib inline\n",
        "\n",
        "import torch\n",
        "import torchvision\n",
        "from torchvision import datasets\n",
        "from torchvision import transforms\n",
        "from torch.autograd import Variable\n",
        "import torch.nn as nn\n",
        "from sklearn.metrics import accuracy_score, f1_score, precision_score, recall_score\n"
      ],
      "id": "1009eb09"
    },
    {
      "cell_type": "markdown",
      "metadata": {
        "id": "5e0546f0"
      },
      "source": [
        "### Step one: Using a PyTorch Dataset\n",
        "Load MNIST dataset from `torchvision.datasets`"
      ],
      "id": "5e0546f0"
    },
    {
      "cell_type": "code",
      "execution_count": 2,
      "metadata": {
        "id": "4d54d14d"
      },
      "outputs": [],
      "source": [
        "transform = transforms.Compose([\n",
        "    transforms.ToTensor(), # Convert PIL image to pytorch tensor\n",
        "    transforms.Normalize((0.1307,), (0.3081,)) # Normalize tensor with mean and standard deviation\n",
        "])\n",
        "\n",
        "trainset = datasets.MNIST(root='./data', train=True, download=True, transform=transform)\n",
        "testset = datasets.MNIST(root='./data', train=False, download=True, transform=transform)\n"
      ],
      "id": "4d54d14d"
    },
    {
      "cell_type": "code",
      "execution_count": 3,
      "metadata": {
        "id": "db5bf20a"
      },
      "outputs": [],
      "source": [
        "trainloader_minibatch = torch.utils.data.DataLoader(trainset, batch_size=32\n",
        "                                                    , shuffle=True, num_workers=2)\n",
        "trainloader_stochastic = torch.utils.data.DataLoader(trainset, batch_size=1\n",
        "                                                     , shuffle=True, num_workers=2)\n",
        "testloader_minibatch = torch.utils.data.DataLoader(testset, batch_size=32, shuffle=False, num_workers=2)\n",
        "\n",
        "testloader_stochastic = torch.utils.data.DataLoader(testset, batch_size=1, shuffle=False, num_workers=2)"
      ],
      "id": "db5bf20a"
    },
    {
      "cell_type": "code",
      "execution_count": 3,
      "metadata": {
        "id": "13-gWSDBwpTl"
      },
      "outputs": [],
      "source": [],
      "id": "13-gWSDBwpTl"
    },
    {
      "cell_type": "code",
      "execution_count": 4,
      "metadata": {
        "id": "179becdc"
      },
      "outputs": [],
      "source": [
        "from tqdm import tqdm\n",
        "\n",
        "# pbar = tqdm(total=len(trainloader_minibatch))\n",
        "# for idx, (data,label) in enumerate(trainloader_minibatch):\n",
        "#     print(idx,data.size(),label.size())\n",
        "#     pbar.update(1)\n",
        "#     break\n",
        "# pbar.refresh()"
      ],
      "id": "179becdc"
    },
    {
      "cell_type": "markdown",
      "metadata": {
        "id": "b25020e7"
      },
      "source": [
        "### Step two: Define a MLP Model and without any bells and whitsles...\n",
        "... along with a CrossEntropy loss criterion \n",
        "\n",
        "Do not use Dropout, BN or any other thing. Use ReLU for hidden layers.\n",
        "\n",
        "⚠️ Do not use SoftMax in the output as nn.CrossEntropyLoss combines SoftMax and NLLLoss."
      ],
      "id": "b25020e7"
    },
    {
      "cell_type": "code",
      "execution_count": 5,
      "metadata": {
        "id": "fkhxfa1GAH7Z"
      },
      "outputs": [],
      "source": [
        "def get_Accuracy_F1Score_Precision_Recall(trainloader,model):\n",
        "  preds = []\n",
        "  truth = []\n",
        "  # model.train()\n",
        "  with torch.no_grad():\n",
        "      for data in trainloader:\n",
        "          inputs, labels = data\n",
        "          outputs = model(inputs)\n",
        "          _, predicted = torch.max(outputs.data, 1)\n",
        "          preds.extend(predicted.numpy())\n",
        "          truth.extend(labels.numpy())\n",
        "\n",
        "  acc = accuracy_score(truth, preds)\n",
        "  f1 = f1_score(truth, preds, average='weighted')\n",
        "  precision = precision_score(truth, preds, average='weighted')\n",
        "  recall = recall_score(truth, preds, average='weighted')\n",
        "\n",
        "  return acc,f1,precision,recall\n"
      ],
      "id": "fkhxfa1GAH7Z"
    },
    {
      "cell_type": "code",
      "execution_count": 6,
      "metadata": {
        "id": "_7KF6VjeAghh"
      },
      "outputs": [],
      "source": [
        "def get_test_loss(model,loss_function,testloader_minibatch):\n",
        "  curr_loss = 0.0\n",
        "  with torch.no_grad():\n",
        "      for data in testloader_minibatch:\n",
        "          inputs, labels = data\n",
        "          outputs = model(inputs)\n",
        "          loss = loss_function(outputs, labels)\n",
        "          curr_loss += loss.item()\n",
        "      return curr_loss"
      ],
      "id": "_7KF6VjeAghh"
    },
    {
      "cell_type": "code",
      "execution_count": 7,
      "metadata": {
        "id": "a49dc9a7"
      },
      "outputs": [],
      "source": [
        "class SimpleMLP(nn.Module):\n",
        "  def __init__(self):\n",
        "      super().__init__()\n",
        "      self.layers = nn.Sequential(\n",
        "        nn.Flatten(),\n",
        "        nn.Linear(28 * 28 , 256),\n",
        "        nn.ReLU(),\n",
        "        nn.Linear(256, 10)\n",
        "      )\n",
        "\n",
        "   \n",
        "\n",
        "  def forward(self, x):\n",
        "    return self.layers(x)\n",
        "  "
      ],
      "id": "a49dc9a7"
    },
    {
      "cell_type": "code",
      "execution_count": 7,
      "metadata": {
        "id": "pTUW2U0p1TSM"
      },
      "outputs": [],
      "source": [],
      "id": "pTUW2U0p1TSM"
    },
    {
      "cell_type": "code",
      "execution_count": 7,
      "metadata": {
        "id": "4L6PKh5v1WjC"
      },
      "outputs": [],
      "source": [],
      "id": "4L6PKh5v1WjC"
    },
    {
      "cell_type": "code",
      "execution_count": 8,
      "metadata": {
        "id": "VHZ8wVOktArb"
      },
      "outputs": [],
      "source": [
        "# train_acc, train_f1,train_precision,train_recall = get_Accuracy_F1Score_Precision_Recall(trainloader_minibatch,model)\n",
        "# test_acc, test_f1,test_precision,test_recall = get_Accuracy_F1Score_Precision_Recall(testloader_minibatch,model)"
      ],
      "id": "VHZ8wVOktArb"
    },
    {
      "cell_type": "code",
      "execution_count": 9,
      "metadata": {
        "id": "C6W8kaC-uKOL"
      },
      "outputs": [],
      "source": [
        "# Print metrics in a tabular form\n",
        "# print(\"Results:\")\n",
        "# print(\"========\")\n",
        "# print(f\"{'':<10s}{'Accuracy':<10s}{'F1 Score':<10s}{'Precision':<10s}{'Recall':<10s}\")\n",
        "# print(f\"{'Train':<10s}{train_acc:<10.4f}{train_f1:<10.4f}{train_precision:<10.4f}{train_recall:<10.4f}\")\n",
        "# print(f\"{'Test':<10s}{test_acc:<10.4f}{test_f1:<10.4f}{test_precision:<10.4f}{test_recall:<10.4f}\")\n"
      ],
      "id": "C6W8kaC-uKOL"
    },
    {
      "cell_type": "markdown",
      "metadata": {
        "id": "520e81eb"
      },
      "source": [
        "### Step three: Define the following optimizers using nn.optim\n",
        "1. SGD\n",
        "2. SGD with momentum\n",
        "3. SGD with L2 regularization\n",
        "4. RMSprop\n",
        "5. Adam"
      ],
      "id": "520e81eb"
    },
    {
      "cell_type": "code",
      "execution_count": 10,
      "metadata": {
        "id": "8c1QKcjLx6y8"
      },
      "outputs": [],
      "source": [
        "# SGD \n",
        "# Initialize the MLP using SGD\n",
        "model_SGD = SimpleMLP()\n",
        "\n",
        "# Define the loss function and optimizer\n",
        "loss_function = nn.CrossEntropyLoss()\n",
        "optimizer_SGD = torch.optim.SGD(model_SGD.parameters(), lr=0.001)"
      ],
      "id": "8c1QKcjLx6y8"
    },
    {
      "cell_type": "code",
      "execution_count": 11,
      "metadata": {
        "id": "Uon_aJhEw_Na"
      },
      "outputs": [],
      "source": [
        "# SGD with  momentum\n",
        "# Initialize the MLP using momentum\n",
        "model_momentum = SimpleMLP()\n",
        "\n",
        "# Define the loss function and optimizer\n",
        "loss_function = nn.CrossEntropyLoss()\n",
        "optimizer_momentum = torch.optim.SGD(model_momentum.parameters(), lr=0.0001, momentum=0.9)"
      ],
      "id": "Uon_aJhEw_Na"
    },
    {
      "cell_type": "code",
      "execution_count": 12,
      "metadata": {
        "id": "_LvilTg0CkbD"
      },
      "outputs": [],
      "source": [
        "# SGD with L2 regularization\n",
        "# Initialize the MLP using RMSprop\n",
        "model_L2 = SimpleMLP()\n",
        "\n",
        "# Define the loss function and optimizer\n",
        "loss_function = nn.CrossEntropyLoss()\n",
        "optimizer_L2 = torch.optim.SGD(model_L2.parameters(), lr=0.001, weight_decay=0.001)"
      ],
      "id": "_LvilTg0CkbD"
    },
    {
      "cell_type": "code",
      "execution_count": 13,
      "metadata": {
        "id": "717fa204"
      },
      "outputs": [],
      "source": [
        "# RMSprop\n",
        "# Initialize the MLP using RMSprop\n",
        "model_RMSprop = SimpleMLP()\n",
        "\n",
        "# Define the loss function and optimizer\n",
        "loss_function = nn.CrossEntropyLoss()\n",
        "optimizer_RMSprop = torch.optim.RMSprop(model_RMSprop.parameters(), lr=0.0001, alpha=0.9)"
      ],
      "id": "717fa204"
    },
    {
      "cell_type": "code",
      "execution_count": 14,
      "metadata": {
        "id": "ynP3j9Xx6OLv"
      },
      "outputs": [],
      "source": [
        "# Initialize the MLP using Adam\n",
        "model_adam = SimpleMLP()\n",
        "\n",
        "# Define the loss function and optimizer\n",
        "loss_function = nn.CrossEntropyLoss()\n",
        "optimizer_adam = torch.optim.Adam(model_adam.parameters(), lr=0.0001)"
      ],
      "id": "ynP3j9Xx6OLv"
    },
    {
      "cell_type": "markdown",
      "metadata": {
        "id": "f5f0f6b8"
      },
      "source": [
        "### Step four: Run the SimpleMLP using different optimizers and plot train and test loss for each optimizer.\n",
        "Explain the results.\n",
        "\n",
        "Report final accuracy, F1 score and other relavant metrics in a tabular form on test and train datasets."
      ],
      "id": "f5f0f6b8"
    },
    {
      "cell_type": "code",
      "execution_count": 15,
      "metadata": {
        "colab": {
          "base_uri": "https://localhost:8080/"
        },
        "id": "fWQprWpuyBkw",
        "outputId": "1079fc27-de02-4a84-8b5c-447820a1f49f"
      },
      "outputs": [
        {
          "output_type": "stream",
          "name": "stderr",
          "text": [
            "\r  0%|          | 0/5 [00:00<?, ?it/s]"
          ]
        },
        {
          "output_type": "stream",
          "name": "stdout",
          "text": [
            "Starting epoch 1\n",
            "Loss after mini-batch   937: 1.627\n"
          ]
        },
        {
          "output_type": "stream",
          "name": "stderr",
          "text": [
            "\r 20%|██        | 1/5 [00:53<03:34, 53.59s/it]"
          ]
        },
        {
          "output_type": "stream",
          "name": "stdout",
          "text": [
            "Starting epoch 2\n",
            "Loss after mini-batch   937: 0.560\n"
          ]
        },
        {
          "output_type": "stream",
          "name": "stderr",
          "text": [
            "\r 40%|████      | 2/5 [01:23<01:59, 39.83s/it]"
          ]
        },
        {
          "output_type": "stream",
          "name": "stdout",
          "text": [
            "Starting epoch 3\n",
            "Loss after mini-batch   937: 0.427\n"
          ]
        },
        {
          "output_type": "stream",
          "name": "stderr",
          "text": [
            "\r 60%|██████    | 3/5 [01:50<01:08, 34.01s/it]"
          ]
        },
        {
          "output_type": "stream",
          "name": "stdout",
          "text": [
            "Starting epoch 4\n",
            "Loss after mini-batch   937: 0.370\n"
          ]
        },
        {
          "output_type": "stream",
          "name": "stderr",
          "text": [
            "\r 80%|████████  | 4/5 [02:18<00:31, 31.32s/it]"
          ]
        },
        {
          "output_type": "stream",
          "name": "stdout",
          "text": [
            "Starting epoch 5\n",
            "Loss after mini-batch   937: 0.340\n"
          ]
        },
        {
          "output_type": "stream",
          "name": "stderr",
          "text": [
            "\r100%|██████████| 5/5 [02:45<00:00, 29.92s/it]"
          ]
        },
        {
          "output_type": "stream",
          "name": "stdout",
          "text": [
            "Training process has finished.\n"
          ]
        }
      ],
      "source": [
        "pbar = tqdm(total=5)\n",
        "loss_SGD_train = []\n",
        "loss_SGD_test = []\n",
        "for epoch in range(0, 5): # 5 epochs at maximum\n",
        "  \n",
        "  # Print epoch\n",
        "  print(f'Starting epoch {epoch+1}')\n",
        "  \n",
        "  # Set current loss value\n",
        "  current_loss = 0.0\n",
        "  \n",
        "  # Iterate over the DataLoader for training data\n",
        "  c = 0\n",
        "  for i, data in enumerate(trainloader_minibatch, 0):\n",
        "  \n",
        "    # print(i)\n",
        "    # Get inputs\n",
        "    inputs, targets = data\n",
        "    \n",
        "    # Zero the gradients\n",
        "    optimizer_SGD.zero_grad()\n",
        "    \n",
        "    # Perform forward pass\n",
        "    outputs = model_SGD(inputs)\n",
        "    \n",
        "    # Compute loss\n",
        "    loss = loss_function(outputs, targets)\n",
        "    \n",
        "    # Perform backward pass\n",
        "    loss.backward()\n",
        "    \n",
        "    # Perform optimization\n",
        "    optimizer_SGD.step()\n",
        "    \n",
        "    # Print statistics\n",
        "    current_loss += loss.item()\n",
        "    if(i == 937):\n",
        "      print('Loss after mini-batch %5d: %.3f' %\n",
        "          ( i , current_loss / i))\n",
        "      \n",
        "  loss_SGD_train.append(current_loss/len(trainloader_minibatch))\n",
        "  curr_loss = get_test_loss(model_SGD,loss_function,testloader_minibatch)\n",
        "  loss_SGD_test.append(curr_loss/len(testloader_minibatch))\n",
        "  pbar.update(1)\n",
        "    \n",
        "\n",
        "# Process is complete.\n",
        "print('Training process has finished.')"
      ],
      "id": "fWQprWpuyBkw"
    },
    {
      "cell_type": "code",
      "execution_count": 16,
      "metadata": {
        "colab": {
          "base_uri": "https://localhost:8080/"
        },
        "id": "_AWKp4YrypaQ",
        "outputId": "c0b292cd-a6a7-4b21-d1c3-3d7fdc3717d1"
      },
      "outputs": [
        {
          "output_type": "stream",
          "name": "stdout",
          "text": [
            "Results:\n",
            "========\n",
            "          Accuracy  F1 Score  Precision Recall    \n",
            "Train     0.9074    0.9071    0.9071    0.9074    \n",
            "Test      0.9121    0.9117    0.9121    0.9121    \n"
          ]
        }
      ],
      "source": [
        "train_acc_sgd, train_f1_sgd,train_precision_sgd,train_recall_sgd = get_Accuracy_F1Score_Precision_Recall(trainloader_minibatch,model_SGD)\n",
        "test_acc_sgd, test_f1_sgd,test_precision_sgd,test_recall_sgd = get_Accuracy_F1Score_Precision_Recall(testloader_minibatch,model_SGD)\n",
        "# Print metrics in a tabular form\n",
        "print(\"Results:\")\n",
        "print(\"========\")\n",
        "print(f\"{'':<10s}{'Accuracy':<10s}{'F1 Score':<10s}{'Precision':<10s}{'Recall':<10s}\")\n",
        "print(f\"{'Train':<10s}{train_acc_sgd:<10.4f}{train_f1_sgd:<10.4f}{train_precision_sgd:<10.4f}{train_recall_sgd:<10.4f}\")\n",
        "print(f\"{'Test':<10s}{test_acc_sgd:<10.4f}{test_f1_sgd:<10.4f}{test_precision_sgd:<10.4f}{test_recall_sgd:<10.4f}\")"
      ],
      "id": "_AWKp4YrypaQ"
    },
    {
      "cell_type": "code",
      "execution_count": 16,
      "metadata": {
        "id": "6kvqTvSqyqeg"
      },
      "outputs": [],
      "source": [],
      "id": "6kvqTvSqyqeg"
    },
    {
      "cell_type": "code",
      "execution_count": 17,
      "metadata": {
        "colab": {
          "base_uri": "https://localhost:8080/"
        },
        "id": "hzdNTMzgxZEA",
        "outputId": "ab217feb-2f80-4464-c3e7-430806294e68"
      },
      "outputs": [
        {
          "output_type": "stream",
          "name": "stderr",
          "text": [
            "\n",
            "  0%|          | 0/5 [00:00<?, ?it/s]\u001b[A"
          ]
        },
        {
          "output_type": "stream",
          "name": "stdout",
          "text": [
            "Starting epoch 1\n"
          ]
        },
        {
          "output_type": "stream",
          "name": "stderr",
          "text": [
            "\r100%|██████████| 5/5 [03:11<00:00, 38.35s/it]\n"
          ]
        },
        {
          "output_type": "stream",
          "name": "stdout",
          "text": [
            "Loss after mini-batch   937: 1.589\n"
          ]
        },
        {
          "output_type": "stream",
          "name": "stderr",
          "text": [
            "\n",
            " 20%|██        | 1/5 [00:27<01:49, 27.45s/it]\u001b[A"
          ]
        },
        {
          "output_type": "stream",
          "name": "stdout",
          "text": [
            "Starting epoch 2\n",
            "Loss after mini-batch   937: 0.572\n"
          ]
        },
        {
          "output_type": "stream",
          "name": "stderr",
          "text": [
            "\n",
            " 40%|████      | 2/5 [00:56<01:25, 28.48s/it]\u001b[A"
          ]
        },
        {
          "output_type": "stream",
          "name": "stdout",
          "text": [
            "Starting epoch 3\n",
            "Loss after mini-batch   937: 0.427\n"
          ]
        },
        {
          "output_type": "stream",
          "name": "stderr",
          "text": [
            "\n",
            " 60%|██████    | 3/5 [01:24<00:56, 28.17s/it]\u001b[A"
          ]
        },
        {
          "output_type": "stream",
          "name": "stdout",
          "text": [
            "Starting epoch 4\n",
            "Loss after mini-batch   937: 0.376\n"
          ]
        },
        {
          "output_type": "stream",
          "name": "stderr",
          "text": [
            "\n",
            " 80%|████████  | 4/5 [01:52<00:27, 27.97s/it]\u001b[A"
          ]
        },
        {
          "output_type": "stream",
          "name": "stdout",
          "text": [
            "Starting epoch 5\n",
            "Loss after mini-batch   937: 0.345\n"
          ]
        },
        {
          "output_type": "stream",
          "name": "stderr",
          "text": [
            "\n",
            "100%|██████████| 5/5 [02:19<00:00, 27.93s/it]\u001b[A"
          ]
        },
        {
          "output_type": "stream",
          "name": "stdout",
          "text": [
            "Training process has finished.\n"
          ]
        }
      ],
      "source": [
        "pbar = tqdm(total=5)\n",
        "loss_momentum_train = []\n",
        "loss_momentum_test = []\n",
        "for epoch in range(0, 5): # 5 epochs at maximum\n",
        "  \n",
        "  # Print epoch\n",
        "  print(f'Starting epoch {epoch+1}')\n",
        "  \n",
        "  # Set current loss value\n",
        "  current_loss = 0.0\n",
        "  \n",
        "  # Iterate over the DataLoader for training data\n",
        "  c = 0\n",
        "  for i, data in enumerate(trainloader_minibatch, 0):\n",
        "  \n",
        "    # print(i)\n",
        "    # Get inputs\n",
        "    inputs, targets = data\n",
        "    \n",
        "    # Zero the gradients\n",
        "    optimizer_momentum.zero_grad()\n",
        "    \n",
        "    # Perform forward pass\n",
        "    outputs = model_momentum(inputs)\n",
        "    \n",
        "    # Compute loss\n",
        "    loss = loss_function(outputs, targets)\n",
        "    \n",
        "    # Perform backward pass\n",
        "    loss.backward()\n",
        "    \n",
        "    # Perform optimization\n",
        "    optimizer_momentum.step()\n",
        "    \n",
        "    # Print statistics\n",
        "    current_loss += loss.item()\n",
        "    if(i == 937):\n",
        "      print('Loss after mini-batch %5d: %.3f' %\n",
        "          ( i , current_loss / i))\n",
        "      \n",
        "  loss_momentum_train.append(current_loss/len(trainloader_minibatch))\n",
        "  curr_loss = get_test_loss(model_momentum,loss_function,testloader_minibatch)\n",
        "  loss_momentum_test.append(curr_loss/len(testloader_minibatch))\n",
        "  pbar.update(1)\n",
        "    \n",
        "    \n",
        "\n",
        "# Process is complete.\n",
        "print('Training process has finished.')"
      ],
      "id": "hzdNTMzgxZEA"
    },
    {
      "cell_type": "code",
      "execution_count": 18,
      "metadata": {
        "colab": {
          "base_uri": "https://localhost:8080/"
        },
        "id": "Aj8wHnUIy3UF",
        "outputId": "a7c671b9-1c62-4a75-b7a2-e0a9044e4e72"
      },
      "outputs": [
        {
          "output_type": "stream",
          "name": "stdout",
          "text": [
            "Results:\n",
            "========\n",
            "          Accuracy  F1 Score  Precision Recall    \n",
            "Train     0.9085    0.9082    0.9082    0.9085    \n",
            "Test      0.9131    0.9129    0.9132    0.9131    \n"
          ]
        }
      ],
      "source": [
        "train_acc_momentum, train_f1_momentum,train_precision_momentum,train_recall_momentum = get_Accuracy_F1Score_Precision_Recall(trainloader_minibatch,model_momentum)\n",
        "test_acc_momentum, test_f1_momentum,test_precision_momentum,test_recall_momentum = get_Accuracy_F1Score_Precision_Recall(testloader_minibatch,model_momentum)\n",
        "# Print metrics in a tabular form\n",
        "print(\"Results:\")\n",
        "print(\"========\")\n",
        "print(f\"{'':<10s}{'Accuracy':<10s}{'F1 Score':<10s}{'Precision':<10s}{'Recall':<10s}\")\n",
        "print(f\"{'Train':<10s}{train_acc_momentum:<10.4f}{train_f1_momentum:<10.4f}{train_precision_momentum:<10.4f}{train_recall_momentum:<10.4f}\")\n",
        "print(f\"{'Test':<10s}{test_acc_momentum:<10.4f}{test_f1_momentum:<10.4f}{test_precision_momentum:<10.4f}{test_recall_momentum:<10.4f}\")"
      ],
      "id": "Aj8wHnUIy3UF"
    },
    {
      "cell_type": "code",
      "execution_count": 19,
      "metadata": {
        "colab": {
          "base_uri": "https://localhost:8080/"
        },
        "id": "axCF6REdC1eZ",
        "outputId": "3f869ee2-d559-41ec-eb2e-37c42212efef"
      },
      "outputs": [
        {
          "output_type": "stream",
          "name": "stderr",
          "text": [
            "\r  0%|          | 0/5 [00:00<?, ?it/s]"
          ]
        },
        {
          "output_type": "stream",
          "name": "stdout",
          "text": [
            "Starting epoch 1\n"
          ]
        },
        {
          "output_type": "stream",
          "name": "stderr",
          "text": [
            "\r100%|██████████| 5/5 [02:45<00:00, 33.07s/it]\n"
          ]
        },
        {
          "output_type": "stream",
          "name": "stdout",
          "text": [
            "Loss after mini-batch   937: 1.593\n"
          ]
        },
        {
          "output_type": "stream",
          "name": "stderr",
          "text": [
            "\r 20%|██        | 1/5 [00:31<02:05, 31.30s/it]"
          ]
        },
        {
          "output_type": "stream",
          "name": "stdout",
          "text": [
            "Starting epoch 2\n",
            "Loss after mini-batch   937: 0.567\n"
          ]
        },
        {
          "output_type": "stream",
          "name": "stderr",
          "text": [
            "\r 40%|████      | 2/5 [00:59<01:27, 29.31s/it]"
          ]
        },
        {
          "output_type": "stream",
          "name": "stdout",
          "text": [
            "Starting epoch 3\n",
            "Loss after mini-batch   937: 0.423\n"
          ]
        },
        {
          "output_type": "stream",
          "name": "stderr",
          "text": [
            "\r 60%|██████    | 3/5 [01:29<00:59, 29.98s/it]"
          ]
        },
        {
          "output_type": "stream",
          "name": "stdout",
          "text": [
            "Starting epoch 4\n",
            "Loss after mini-batch   937: 0.372\n"
          ]
        },
        {
          "output_type": "stream",
          "name": "stderr",
          "text": [
            "\r 80%|████████  | 4/5 [01:57<00:28, 28.97s/it]"
          ]
        },
        {
          "output_type": "stream",
          "name": "stdout",
          "text": [
            "Starting epoch 5\n",
            "Loss after mini-batch   937: 0.345\n"
          ]
        },
        {
          "output_type": "stream",
          "name": "stderr",
          "text": [
            "\r100%|██████████| 5/5 [02:25<00:00, 28.51s/it]"
          ]
        },
        {
          "output_type": "stream",
          "name": "stdout",
          "text": [
            "Training process has finished.\n"
          ]
        }
      ],
      "source": [
        "pbar = tqdm(total=5)\n",
        "loss_L2_train = []\n",
        "loss_L2_test = []\n",
        "for epoch in range(0, 5): # 5 epochs at maximum\n",
        "  \n",
        "  # Print epoch\n",
        "  print(f'Starting epoch {epoch+1}')\n",
        "  \n",
        "  # Set current loss value\n",
        "  current_loss = 0.0\n",
        "  \n",
        "  # Iterate over the DataLoader for training data\n",
        "  c = 0\n",
        "  for i, data in enumerate(trainloader_minibatch, 0):\n",
        "  \n",
        "    # print(i)\n",
        "    # Get inputs\n",
        "    inputs, targets = data\n",
        "    \n",
        "    # Zero the gradients\n",
        "    optimizer_L2.zero_grad()\n",
        "    \n",
        "    # Perform forward pass\n",
        "    outputs = model_L2(inputs)\n",
        "    \n",
        "    # Compute loss\n",
        "    loss = loss_function(outputs, targets)\n",
        "    \n",
        "    # Perform backward pass\n",
        "    loss.backward()\n",
        "    \n",
        "    # Perform optimization\n",
        "    optimizer_L2.step()\n",
        "    \n",
        "    # Print statistics\n",
        "    current_loss += loss.item()\n",
        "    if(i == 937):\n",
        "      print('Loss after mini-batch %5d: %.3f' %\n",
        "          ( i , current_loss / i))\n",
        "      \n",
        "  loss_L2_train.append(current_loss/len(trainloader_minibatch))\n",
        "  curr_loss = get_test_loss(model_L2,loss_function,testloader_minibatch)\n",
        "  loss_L2_test.append(curr_loss/len(testloader_minibatch))\n",
        "  pbar.update(1)\n",
        "        \n",
        "    \n",
        "\n",
        "# Process is complete.\n",
        "print('Training process has finished.')"
      ],
      "id": "axCF6REdC1eZ"
    },
    {
      "cell_type": "code",
      "execution_count": 20,
      "metadata": {
        "colab": {
          "base_uri": "https://localhost:8080/"
        },
        "id": "qtRS_E5ay6Uu",
        "outputId": "f1800bc0-6c95-419f-98e7-b70051554746"
      },
      "outputs": [
        {
          "output_type": "stream",
          "name": "stdout",
          "text": [
            "Results:\n",
            "========\n",
            "          Accuracy  F1 Score  Precision Recall    \n",
            "Train     0.9072    0.9069    0.9070    0.9072    \n",
            "Test      0.9110    0.9107    0.9108    0.9110    \n"
          ]
        }
      ],
      "source": [
        "train_acc_l2, train_f1_l2,train_precision_l2,train_recall_l2 = get_Accuracy_F1Score_Precision_Recall(trainloader_minibatch,model_L2)\n",
        "test_acc_l2, test_f1_l2,test_precision_l2,test_recall_l2 = get_Accuracy_F1Score_Precision_Recall(testloader_minibatch,model_L2)\n",
        "# Print metrics in a tabular form\n",
        "print(\"Results:\")\n",
        "print(\"========\")\n",
        "print(f\"{'':<10s}{'Accuracy':<10s}{'F1 Score':<10s}{'Precision':<10s}{'Recall':<10s}\")\n",
        "print(f\"{'Train':<10s}{train_acc_l2:<10.4f}{train_f1_l2:<10.4f}{train_precision_l2:<10.4f}{train_recall_l2:<10.4f}\")\n",
        "print(f\"{'Test':<10s}{test_acc_l2:<10.4f}{test_f1_l2:<10.4f}{test_precision_l2:<10.4f}{test_recall_l2:<10.4f}\")"
      ],
      "id": "qtRS_E5ay6Uu"
    },
    {
      "cell_type": "code",
      "execution_count": 20,
      "metadata": {
        "id": "d-Ua1Q6iy5k4"
      },
      "outputs": [],
      "source": [],
      "id": "d-Ua1Q6iy5k4"
    },
    {
      "cell_type": "code",
      "execution_count": 21,
      "metadata": {
        "colab": {
          "base_uri": "https://localhost:8080/"
        },
        "id": "0G71_AcLBFMr",
        "outputId": "4d53b5b6-e393-48ee-b324-5e02cb0fe9a5"
      },
      "outputs": [
        {
          "output_type": "stream",
          "name": "stderr",
          "text": [
            "\n",
            "  0%|          | 0/5 [00:00<?, ?it/s]\u001b[A"
          ]
        },
        {
          "output_type": "stream",
          "name": "stdout",
          "text": [
            "Starting epoch 1\n"
          ]
        },
        {
          "output_type": "stream",
          "name": "stderr",
          "text": [
            "\r100%|██████████| 5/5 [02:50<00:00, 34.08s/it]\n"
          ]
        },
        {
          "output_type": "stream",
          "name": "stdout",
          "text": [
            "Loss after mini-batch   937: 0.543\n"
          ]
        },
        {
          "output_type": "stream",
          "name": "stderr",
          "text": [
            "\n",
            " 20%|██        | 1/5 [00:28<01:52, 28.10s/it]\u001b[A"
          ]
        },
        {
          "output_type": "stream",
          "name": "stdout",
          "text": [
            "Starting epoch 2\n",
            "Loss after mini-batch   937: 0.222\n"
          ]
        },
        {
          "output_type": "stream",
          "name": "stderr",
          "text": [
            "\n",
            " 40%|████      | 2/5 [00:56<01:24, 28.15s/it]\u001b[A"
          ]
        },
        {
          "output_type": "stream",
          "name": "stdout",
          "text": [
            "Starting epoch 3\n",
            "Loss after mini-batch   937: 0.166\n"
          ]
        },
        {
          "output_type": "stream",
          "name": "stderr",
          "text": [
            "\n",
            " 60%|██████    | 3/5 [01:24<00:56, 28.32s/it]\u001b[A"
          ]
        },
        {
          "output_type": "stream",
          "name": "stdout",
          "text": [
            "Starting epoch 4\n",
            "Loss after mini-batch   937: 0.130\n"
          ]
        },
        {
          "output_type": "stream",
          "name": "stderr",
          "text": [
            "\n",
            " 80%|████████  | 4/5 [01:54<00:28, 28.79s/it]\u001b[A"
          ]
        },
        {
          "output_type": "stream",
          "name": "stdout",
          "text": [
            "Starting epoch 5\n",
            "Loss after mini-batch   937: 0.109\n"
          ]
        },
        {
          "output_type": "stream",
          "name": "stderr",
          "text": [
            "\n",
            "100%|██████████| 5/5 [02:22<00:00, 28.59s/it]\u001b[A"
          ]
        },
        {
          "output_type": "stream",
          "name": "stdout",
          "text": [
            "Training process has finished.\n"
          ]
        }
      ],
      "source": [
        "# Run the training loop for RMSprop\n",
        "pbar = tqdm(total=5)\n",
        "loss_RMSprop_train = []\n",
        "loss_RMSprop_test = []\n",
        "for epoch in range(0, 5): # 5 epochs at maximum\n",
        "  \n",
        "  # Print epoch\n",
        "  print(f'Starting epoch {epoch+1}')\n",
        "  \n",
        "  # Set current loss value\n",
        "  current_loss = 0.0\n",
        "  \n",
        "  # Iterate over the DataLoader for training data\n",
        "  c = 0\n",
        "  for i, data in enumerate(trainloader_minibatch, 0):\n",
        "  \n",
        "    # print(i)\n",
        "    # Get inputs\n",
        "    inputs, targets = data\n",
        "    \n",
        "    # Zero the gradients\n",
        "    optimizer_RMSprop.zero_grad()\n",
        "    \n",
        "    # Perform forward pass\n",
        "    outputs = model_RMSprop(inputs)\n",
        "    \n",
        "    # Compute loss\n",
        "    loss = loss_function(outputs, targets)\n",
        "    \n",
        "    # Perform backward pass\n",
        "    loss.backward()\n",
        "    \n",
        "    # Perform optimization\n",
        "    optimizer_RMSprop.step()\n",
        "    \n",
        "    # Print statistics\n",
        "    current_loss += loss.item()\n",
        "    if(i == 937):\n",
        "      print('Loss after mini-batch %5d: %.3f' %\n",
        "          ( i , current_loss / i))\n",
        "      \n",
        "  loss_RMSprop_train.append(current_loss/len(trainloader_minibatch))\n",
        "  curr_loss = get_test_loss(model_RMSprop,loss_function,testloader_minibatch)\n",
        "  loss_RMSprop_test.append(curr_loss/len(testloader_minibatch))\n",
        "  pbar.update(1)\n",
        "    \n",
        "\n",
        "\n",
        "# Process is complete.\n",
        "print('Training process has finished.')"
      ],
      "id": "0G71_AcLBFMr"
    },
    {
      "cell_type": "code",
      "execution_count": 22,
      "metadata": {
        "colab": {
          "base_uri": "https://localhost:8080/"
        },
        "id": "vI1TO3Q0zAHC",
        "outputId": "94ce0fef-2bd0-4d91-a01d-1165e8209cdb"
      },
      "outputs": [
        {
          "output_type": "stream",
          "name": "stdout",
          "text": [
            "Results:\n",
            "========\n",
            "          Accuracy  F1 Score  Precision Recall    \n",
            "Train     0.9749    0.9749    0.9750    0.9749    \n",
            "Test      0.9689    0.9689    0.9689    0.9689    \n"
          ]
        }
      ],
      "source": [
        "train_accRMSprop, train_f1RMSprop,train_precisionRMSprop,train_recallRMSprop = get_Accuracy_F1Score_Precision_Recall(trainloader_minibatch,model_RMSprop)\n",
        "test_accRMSprop, test_f1RMSprop,test_precisionRMSprop,test_recallRMSprop = get_Accuracy_F1Score_Precision_Recall(testloader_minibatch,model_RMSprop)\n",
        "# Print metrics in a tabular form\n",
        "print(\"Results:\")\n",
        "print(\"========\")\n",
        "print(f\"{'':<10s}{'Accuracy':<10s}{'F1 Score':<10s}{'Precision':<10s}{'Recall':<10s}\")\n",
        "print(f\"{'Train':<10s}{train_accRMSprop:<10.4f}{train_f1RMSprop:<10.4f}{train_precisionRMSprop:<10.4f}{train_recallRMSprop:<10.4f}\")\n",
        "print(f\"{'Test':<10s}{test_accRMSprop:<10.4f}{test_f1RMSprop:<10.4f}{test_precisionRMSprop:<10.4f}{test_recallRMSprop:<10.4f}\")"
      ],
      "id": "vI1TO3Q0zAHC"
    },
    {
      "cell_type": "code",
      "execution_count": 23,
      "metadata": {
        "colab": {
          "base_uri": "https://localhost:8080/"
        },
        "id": "vqp5sEnKxajb",
        "outputId": "a0550988-1416-4c3d-d171-9e986e8ec71d"
      },
      "outputs": [
        {
          "output_type": "stream",
          "name": "stderr",
          "text": [
            "\r  0%|          | 0/5 [00:00<?, ?it/s]"
          ]
        },
        {
          "output_type": "stream",
          "name": "stdout",
          "text": [
            "Starting epoch 1\n"
          ]
        },
        {
          "output_type": "stream",
          "name": "stderr",
          "text": [
            "\r100%|██████████| 5/5 [02:47<00:00, 33.56s/it]\n"
          ]
        },
        {
          "output_type": "stream",
          "name": "stdout",
          "text": [
            "Loss after mini-batch   937: 0.558\n"
          ]
        },
        {
          "output_type": "stream",
          "name": "stderr",
          "text": [
            "\r 20%|██        | 1/5 [00:29<01:58, 29.69s/it]"
          ]
        },
        {
          "output_type": "stream",
          "name": "stdout",
          "text": [
            "Starting epoch 2\n",
            "Loss after mini-batch   937: 0.222\n"
          ]
        },
        {
          "output_type": "stream",
          "name": "stderr",
          "text": [
            "\r 40%|████      | 2/5 [00:58<01:27, 29.17s/it]"
          ]
        },
        {
          "output_type": "stream",
          "name": "stdout",
          "text": [
            "Starting epoch 3\n",
            "Loss after mini-batch   937: 0.156\n"
          ]
        },
        {
          "output_type": "stream",
          "name": "stderr",
          "text": [
            "\r 60%|██████    | 3/5 [01:28<00:59, 29.53s/it]"
          ]
        },
        {
          "output_type": "stream",
          "name": "stdout",
          "text": [
            "Starting epoch 4\n",
            "Loss after mini-batch   937: 0.124\n"
          ]
        },
        {
          "output_type": "stream",
          "name": "stderr",
          "text": [
            "\r 80%|████████  | 4/5 [01:58<00:29, 29.58s/it]"
          ]
        },
        {
          "output_type": "stream",
          "name": "stdout",
          "text": [
            "Starting epoch 5\n",
            "Loss after mini-batch   937: 0.099\n"
          ]
        },
        {
          "output_type": "stream",
          "name": "stderr",
          "text": [
            "\r100%|██████████| 5/5 [02:27<00:00, 29.47s/it]"
          ]
        },
        {
          "output_type": "stream",
          "name": "stdout",
          "text": [
            "Training process has finished.\n"
          ]
        }
      ],
      "source": [
        "# Run the training loop for adam\n",
        "pbar = tqdm(total=5)\n",
        "loss_adam_train = []\n",
        "loss_adam_test = []\n",
        "for epoch in range(0, 5): # 5 epochs at maximum\n",
        "  \n",
        "  # Print epoch\n",
        "  print(f'Starting epoch {epoch+1}')\n",
        "  \n",
        "  # Set current loss value\n",
        "  current_loss = 0.0\n",
        "  \n",
        "  # Iterate over the DataLoader for training data\n",
        "  c = 0\n",
        "  for i, data in enumerate(trainloader_minibatch, 0):\n",
        "  \n",
        "    # print(i)\n",
        "    # Get inputs\n",
        "    inputs, targets = data\n",
        "    \n",
        "    # Zero the gradients\n",
        "    optimizer_adam.zero_grad()\n",
        "    \n",
        "    # Perform forward pass\n",
        "    outputs = model_adam(inputs)\n",
        "    \n",
        "    # Compute loss\n",
        "    loss = loss_function(outputs, targets)\n",
        "    \n",
        "    # Perform backward pass\n",
        "    loss.backward()\n",
        "    \n",
        "    # Perform optimization\n",
        "    optimizer_adam.step()\n",
        "    \n",
        "    # Print statistics\n",
        "    current_loss += loss.item()\n",
        "    if(i == 937):\n",
        "      print('Loss after mini-batch %5d: %.3f' %\n",
        "          ( i , current_loss / i))\n",
        "      \n",
        "  loss_adam_train.append(current_loss/len(trainloader_minibatch))\n",
        "  curr_loss = get_test_loss(model_adam,loss_function,testloader_minibatch)\n",
        "  loss_adam_test.append(curr_loss/len(testloader_minibatch))\n",
        "  pbar.update(1)\n",
        "    \n",
        "    \n",
        "\n",
        "# Process is complete.\n",
        "print('Training process has finished.')\n"
      ],
      "id": "vqp5sEnKxajb"
    },
    {
      "cell_type": "code",
      "execution_count": 24,
      "metadata": {
        "colab": {
          "base_uri": "https://localhost:8080/"
        },
        "id": "OfBxyd84zBug",
        "outputId": "aecb4218-612e-4cb3-8ef3-923a201ae6b3"
      },
      "outputs": [
        {
          "output_type": "stream",
          "name": "stdout",
          "text": [
            "Results:\n",
            "========\n",
            "          Accuracy  F1 Score  Precision Recall    \n",
            "Train     0.9775    0.9775    0.9776    0.9775    \n",
            "Test      0.9717    0.9717    0.9717    0.9717    \n"
          ]
        }
      ],
      "source": [
        "train_acc_adam, train_f1_adam,train_precision_adam,train_recall_adam = get_Accuracy_F1Score_Precision_Recall(trainloader_minibatch,model_adam)\n",
        "test_acc_adam, test_f1_adam,test_precision_adam,test_recall_adam = get_Accuracy_F1Score_Precision_Recall(testloader_minibatch,model_adam)\n",
        "# Print metrics in a tabular form\n",
        "print(\"Results:\")\n",
        "print(\"========\")\n",
        "print(f\"{'':<10s}{'Accuracy':<10s}{'F1 Score':<10s}{'Precision':<10s}{'Recall':<10s}\")\n",
        "print(f\"{'Train':<10s}{train_acc_adam:<10.4f}{train_f1_adam:<10.4f}{train_precision_adam:<10.4f}{train_recall_adam:<10.4f}\")\n",
        "print(f\"{'Test':<10s}{test_acc_adam:<10.4f}{test_f1_adam:<10.4f}{test_precision_adam:<10.4f}{test_recall_adam:<10.4f}\")"
      ],
      "id": "OfBxyd84zBug"
    },
    {
      "cell_type": "code",
      "execution_count": 47,
      "metadata": {
        "id": "FZgrpBGdBzjr",
        "colab": {
          "base_uri": "https://localhost:8080/"
        },
        "outputId": "5c55325f-ef04-4c37-fff5-878aee3026ba"
      },
      "outputs": [
        {
          "output_type": "execute_result",
          "data": {
            "text/plain": [
              "[781.6802521236241,\n",
              " 384.4153128378093,\n",
              " 283.47950138151646,\n",
              " 223.5374536179006,\n",
              " 182.95085431821644]"
            ]
          },
          "metadata": {},
          "execution_count": 47
        }
      ],
      "source": [
        "losses[0][0]"
      ],
      "id": "FZgrpBGdBzjr"
    },
    {
      "cell_type": "code",
      "execution_count": 25,
      "metadata": {
        "colab": {
          "base_uri": "https://localhost:8080/",
          "height": 244
        },
        "id": "YqvLf4pKGttW",
        "outputId": "e299f3a1-e1b4-45df-d20c-12280f349c67"
      },
      "outputs": [
        {
          "output_type": "display_data",
          "data": {
            "text/plain": [
              "<Figure size 1440x360 with 5 Axes>"
            ],
            "image/png": "[encoded data removed]"
          },
          "metadata": {
            "needs_background": "light"
          }
        }
      ],
      "source": [
        "\n",
        "losses = [[loss_adam_train,loss_adam_test],[loss_RMSprop_train,loss_RMSprop_test],[loss_L2_train,loss_L2_test],[loss_momentum_train,loss_momentum_test],[loss_SGD_train,loss_SGD_test]]\n",
        "import matplotlib.pyplot as plt\n",
        "# Plot the train and test loss for each optimizer\n",
        "fig, axs = plt.subplots(1, 5, figsize=(20, 5))\n",
        "optimizer_name = ['adam','RmsDrop','l2_regularization','momentum','sgd']\n",
        "for i in range(5):\n",
        "    axs[i].plot(losses[i][0], label='Train')\n",
        "    axs[i].plot(losses[i][1], label='Test')\n",
        "    axs[i].set_xlabel('Epoch')\n",
        "    axs[i].set_ylabel('Loss')\n",
        "    axs[i].set_title(optimizer_name[i])\n",
        "    axs[i].legend()\n",
        "\n",
        "plt.show()"
      ],
      "id": "YqvLf4pKGttW"
    },
    {
      "cell_type": "markdown",
      "metadata": {
        "id": "d09ffca0"
      },
      "source": [
        "### Step five: Using SimpleMLP and Adam optimizer, train models using 2 different lr_schedulers.\n",
        "Select 2 of **MultiplicativeLR**, **MultiStepLR**, **LinearLR** and **ExponentialLR**\n",
        "\n",
        "Compare the results among different LR schedulers and the original model which didn't employ any LR scheduler. Compile results in a tabular form. Plot losses for each. Explain results."
      ],
      "id": "d09ffca0"
    },
    {
      "cell_type": "code",
      "execution_count": 26,
      "metadata": {
        "id": "NM_OyUen7K3F"
      },
      "outputs": [],
      "source": [
        "import torch.optim as optim\n",
        "from torch.optim.lr_scheduler import MultiplicativeLR, MultiStepLR, ExponentialLR, LambdaLR"
      ],
      "id": "NM_OyUen7K3F"
    },
    {
      "cell_type": "code",
      "execution_count": 27,
      "metadata": {
        "id": "XBvtot6i7N9N"
      },
      "outputs": [],
      "source": [
        "model_MultiStepLR = SimpleMLP()\n",
        "loss_function = nn.CrossEntropyLoss()\n",
        "\n",
        "# Define the optimizer and the learning rate scheduler\n",
        "optimiz_MultiStepLR = optim.Adam(model_MultiStepLR.parameters(),lr=0.0001)\n",
        "lr_scheduler1 = optim.lr_scheduler.MultiStepLR(optimiz_MultiStepLR, milestones=[5, 10], gamma=0.1)\n",
        "losses_MultiStepLR = []"
      ],
      "id": "XBvtot6i7N9N"
    },
    {
      "cell_type": "code",
      "execution_count": 28,
      "metadata": {
        "id": "RonNACcg7Z4R"
      },
      "outputs": [],
      "source": [
        "model_ExponentialLR = SimpleMLP()\n",
        "loss_function = nn.CrossEntropyLoss()\n",
        "\n",
        "# Define the optimizer and the learning rate scheduler\n",
        "optimiz_ExponentialLR = optim.Adam(model_ExponentialLR.parameters(), lr=0.0001)\n",
        "lr_scheduler2 = optim.lr_scheduler.ExponentialLR(optimiz_ExponentialLR, gamma=0.9)\n",
        "losses_ExponentialLR = []"
      ],
      "id": "RonNACcg7Z4R"
    },
    {
      "cell_type": "code",
      "execution_count": 29,
      "metadata": {
        "id": "hj7cerOp_N94"
      },
      "outputs": [],
      "source": [
        "for epoch in range(5):\n",
        "    current_loss = 0.0\n",
        "    for i, data in enumerate(trainloader_minibatch, 0):\n",
        "      \n",
        "        # print(i)\n",
        "        # Get inputs\n",
        "        inputs, targets = data\n",
        "        \n",
        "        # Zero the gradients\n",
        "        optimiz_MultiStepLR.zero_grad()\n",
        "        \n",
        "        # Perform forward pass\n",
        "        outputs = model_MultiStepLR(inputs)\n",
        "        \n",
        "        # Compute loss\n",
        "        loss = loss_function(outputs, targets)\n",
        "        \n",
        "        # Perform backward pass\n",
        "        loss.backward()\n",
        "        \n",
        "        # Perform optimization\n",
        "        optimiz_MultiStepLR.step()\n",
        "        \n",
        "        # Print statistics\n",
        "        current_loss += loss.item()\n",
        "    lr_scheduler1.step()\n",
        "    losses_MultiStepLR.append(current_loss / len(trainloader_minibatch))"
      ],
      "id": "hj7cerOp_N94"
    },
    {
      "cell_type": "code",
      "execution_count": 30,
      "metadata": {
        "colab": {
          "base_uri": "https://localhost:8080/"
        },
        "id": "Iqztx-BbAQL6",
        "outputId": "e68225b4-226a-4803-ecaf-66f4c4556a4d"
      },
      "outputs": [
        {
          "output_type": "stream",
          "name": "stdout",
          "text": [
            "Results: MultiStepLR\n",
            "========\n",
            "          Accuracy  F1 Score  Precision Recall    \n",
            "Train     0.9756    0.9756    0.9757    0.9756    \n",
            "Test      0.9681    0.9681    0.9683    0.9681    \n"
          ]
        }
      ],
      "source": [
        "train_acc_MultiStepLR, train_f1_MultiStepLR,train_precision_MultiStepLR,train_recall_MultiStepLR = get_Accuracy_F1Score_Precision_Recall(trainloader_minibatch,model_MultiStepLR)\n",
        "test_acc_MultiStepLR, test_f1_MultiStepLR,test_precision_MultiStepLR,test_recall_MultiStepLR = get_Accuracy_F1Score_Precision_Recall(testloader_minibatch,model_MultiStepLR)\n",
        "print(\"Results:\", 'MultiStepLR')\n",
        "print(\"========\")\n",
        "print(f\"{'':<10s}{'Accuracy':<10s}{'F1 Score':<10s}{'Precision':<10s}{'Recall':<10s}\")\n",
        "print(f\"{'Train':<10s}{train_acc_MultiStepLR:<10.4f}{train_f1_MultiStepLR:<10.4f}{train_precision_MultiStepLR:<10.4f}{train_recall_MultiStepLR:<10.4f}\")\n",
        "print(f\"{'Test':<10s}{test_acc_MultiStepLR:<10.4f}{test_f1_MultiStepLR:<10.4f}{test_precision_MultiStepLR:<10.4f}{test_recall_MultiStepLR:<10.4f}\")"
      ],
      "id": "Iqztx-BbAQL6"
    },
    {
      "cell_type": "code",
      "execution_count": 31,
      "metadata": {
        "id": "36GCJ1-A8hy3"
      },
      "outputs": [],
      "source": [
        "for epoch in range(5):\n",
        "    current_loss = 0.0\n",
        "    for i, data in enumerate(trainloader_minibatch, 0):\n",
        "      \n",
        "        # print(i)\n",
        "        # Get inputs\n",
        "        inputs, targets = data\n",
        "        \n",
        "        # Zero the gradients\n",
        "        optimiz_ExponentialLR.zero_grad()\n",
        "        \n",
        "        # Perform forward pass\n",
        "        outputs = model_ExponentialLR(inputs)\n",
        "        \n",
        "        # Compute loss\n",
        "        loss = loss_function(outputs, targets)\n",
        "        \n",
        "        # Perform backward pass\n",
        "        loss.backward()\n",
        "        \n",
        "        # Perform optimization\n",
        "        optimiz_ExponentialLR.step()\n",
        "        \n",
        "        # Print statistics\n",
        "        current_loss += loss.item()\n",
        "    lr_scheduler2.step()\n",
        "    losses_ExponentialLR.append(current_loss / len(trainloader_minibatch))"
      ],
      "id": "36GCJ1-A8hy3"
    },
    {
      "cell_type": "code",
      "execution_count": 32,
      "metadata": {
        "colab": {
          "base_uri": "https://localhost:8080/"
        },
        "id": "eJcZVncMAgzA",
        "outputId": "f0343682-d5af-4e4b-89dd-885381a49357"
      },
      "outputs": [
        {
          "output_type": "stream",
          "name": "stdout",
          "text": [
            "Results: MultiStepLR\n",
            "========\n",
            "          Accuracy  F1 Score  Precision Recall    \n",
            "Train     0.9730    0.9730    0.9731    0.9730    \n",
            "Test      0.9674    0.9674    0.9675    0.9674    \n"
          ]
        }
      ],
      "source": [
        "train_acc_Exp, train_f1_Exp,train_precision_Exp,train_recall_Exp = get_Accuracy_F1Score_Precision_Recall(trainloader_minibatch,model_ExponentialLR)\n",
        "test_acc_Exp, test_f1_Exp,test_precision_Exp,test_recall_Exp = get_Accuracy_F1Score_Precision_Recall(testloader_minibatch,model_ExponentialLR)\n",
        "print(\"Results:\", 'MultiStepLR')\n",
        "print(\"========\")\n",
        "print(f\"{'':<10s}{'Accuracy':<10s}{'F1 Score':<10s}{'Precision':<10s}{'Recall':<10s}\")\n",
        "print(f\"{'Train':<10s}{train_acc_Exp:<10.4f}{train_f1_Exp:<10.4f}{train_precision_Exp:<10.4f}{train_recall_Exp:<10.4f}\")\n",
        "print(f\"{'Test':<10s}{test_acc_Exp:<10.4f}{test_f1_Exp:<10.4f}{test_precision_Exp:<10.4f}{test_recall_Exp:<10.4f}\")"
      ],
      "id": "eJcZVncMAgzA"
    },
    {
      "cell_type": "code",
      "execution_count": 33,
      "metadata": {
        "colab": {
          "base_uri": "https://localhost:8080/",
          "height": 1000
        },
        "id": "Ho3EtFzY2uMH",
        "outputId": "f12edc31-7b9f-4a2c-a3fa-64ae55e0e9d5"
      },
      "outputs": [
        {
          "output_type": "display_data",
          "data": {
            "text/plain": [
              "<Figure size 432x288 with 1 Axes>"
            ],
            "image/png": "[encoded data removed]"
          },
          "metadata": {
            "needs_background": "light"
          }
        },
        {
          "output_type": "display_data",
          "data": {
            "text/plain": [
              "<Figure size 432x288 with 1 Axes>"
            ],
            "image/png": "[encoded data removed]"
          },
          "metadata": {
            "needs_background": "light"
          }
        },
        {
          "output_type": "display_data",
          "data": {
            "text/plain": [
              "<Figure size 432x288 with 1 Axes>"
            ],
            "image/png": "[encoded data removed]"
          },
          "metadata": {
            "needs_background": "light"
          }
        },
        {
          "output_type": "display_data",
          "data": {
            "text/plain": [
              "<Figure size 432x288 with 1 Axes>"
            ],
            "image/png": "[encoded data removed]"
          },
          "metadata": {
            "needs_background": "light"
          }
        }
      ],
      "source": [
        "import matplotlib.pyplot as plt\n",
        "\n",
        "plt.plot(losses_MultiStepLR, label='MultiStepLR')\n",
        "plt.plot(losses_ExponentialLR, label='ExponentialLR')\n",
        "plt.plot(loss_adam_train, label='No scheduler')\n",
        "plt.xlabel('Epoch')\n",
        "plt.ylabel('Training loss')\n",
        "plt.legend()\n",
        "plt.show()\n",
        "\n",
        "plt.plot(losses_MultiStepLR, label='MultiStepLR')\n",
        "plt.xlabel('Epoch')\n",
        "plt.ylabel('Training loss')\n",
        "plt.legend()\n",
        "plt.show()\n",
        "\n",
        "plt.plot(losses_ExponentialLR, label='ExponentialLR')\n",
        "plt.xlabel('Epoch')\n",
        "plt.ylabel('Training loss')\n",
        "plt.legend()\n",
        "plt.show()\n",
        "\n",
        "plt.plot(loss_adam_train, label='No scheduler')\n",
        "plt.xlabel('Epoch')\n",
        "plt.ylabel('Training loss')\n",
        "plt.legend()\n",
        "plt.show()"
      ],
      "id": "Ho3EtFzY2uMH"
    },
    {
      "cell_type": "markdown",
      "metadata": {
        "id": "91631d83"
      },
      "source": [
        "### Step six: Define 3 models with following changes:\n",
        "1. Add BatchNorm\n",
        "2. Add Dropout\n",
        "3. Add BatchNorm and Dropout"
      ],
      "id": "91631d83"
    },
    {
      "cell_type": "code",
      "execution_count": 34,
      "metadata": {
        "id": "67d845a4"
      },
      "outputs": [],
      "source": [
        "# code here\n",
        "\n",
        "import torch.nn as nn\n",
        "\n",
        "class MLPWithBatchNorm(nn.Module):\n",
        "    def __init__(self):\n",
        "        super().__init__()\n",
        "        self.layer1 = nn.Linear(784, 128)\n",
        "        self.layer2 = nn.Linear(128, 64)\n",
        "        self.layer3 = nn.Linear(64, 10)\n",
        "        self.relu = nn.ReLU()\n",
        "        self.bn1 = nn.BatchNorm1d(128)\n",
        "        self.bn2 = nn.BatchNorm1d(64)\n",
        "\n",
        "    def forward(self, x):\n",
        "        x = x.view(x.shape[0], -1)\n",
        "        x = self.bn1(self.relu(self.layer1(x)))\n",
        "        x = self.bn2(self.relu(self.layer2(x)))\n",
        "        x = self.layer3(x)\n",
        "        return x"
      ],
      "id": "67d845a4"
    },
    {
      "cell_type": "code",
      "execution_count": 35,
      "metadata": {
        "id": "bCi1tgcEYMve"
      },
      "outputs": [],
      "source": [
        "class MLPWithDropout(nn.Module):\n",
        "    def __init__(self):\n",
        "        super().__init__()\n",
        "        self.layer1 = nn.Linear(784, 128)\n",
        "        self.layer2 = nn.Linear(128, 64)\n",
        "        self.layer3 = nn.Linear(64, 10)\n",
        "        self.relu = nn.ReLU()\n",
        "        self.dropout = nn.Dropout(p=0.5)\n",
        "\n",
        "    def forward(self, x):\n",
        "        x = x.view(x.shape[0], -1)\n",
        "        x = self.dropout(self.relu(self.layer1(x)))\n",
        "        x = self.dropout(self.relu(self.layer2(x)))\n",
        "        x = self.layer3(x)\n",
        "        return x\n"
      ],
      "id": "bCi1tgcEYMve"
    },
    {
      "cell_type": "code",
      "execution_count": 36,
      "metadata": {
        "id": "IBvQrQysYoBj"
      },
      "outputs": [],
      "source": [
        "class MLPWithBatchNormAndDropout(nn.Module):\n",
        "    def __init__(self):\n",
        "        super().__init__()\n",
        "        self.layer1 = nn.Linear(784, 128)\n",
        "        self.layer2 = nn.Linear(128, 64)\n",
        "        self.layer3 = nn.Linear(64, 10)\n",
        "        self.relu = nn.ReLU()\n",
        "        self.bn1 = nn.BatchNorm1d(128)\n",
        "        self.bn2 = nn.BatchNorm1d(64)\n",
        "        self.dropout = nn.Dropout(p=0.5)\n",
        "\n",
        "    def forward(self, x):\n",
        "        x = x.view(x.shape[0], -1)\n",
        "        x = self.dropout(self.bn1(self.relu(self.layer1(x))))\n",
        "        x = self.dropout(self.bn2(self.relu(self.layer2(x))))\n",
        "        x = self.layer3(x)\n",
        "        return x\n",
        "\n"
      ],
      "id": "IBvQrQysYoBj"
    },
    {
      "cell_type": "markdown",
      "metadata": {
        "id": "adc3d78f"
      },
      "source": [
        "### Step seven: Train the above models and compare with SimpleMLP.\n",
        "\n",
        "Use your choice of optimizer, use no lr_scheduler so as to re-use the previous results.\n",
        "\n",
        "Perform analysis. You've got the drill by now."
      ],
      "id": "adc3d78f"
    },
    {
      "cell_type": "code",
      "execution_count": 37,
      "metadata": {
        "id": "0a86605f"
      },
      "outputs": [],
      "source": [
        "# code here\n",
        "# Initialize the MLP\n",
        "# model = SimpleMLP()\n",
        "\n",
        "# # Define the loss function and optimizer\n",
        "# loss_function = nn.CrossEntropyLoss()\n",
        "# optimizer = torch.optim.Adam(model.parameters(), lr=1e-3)\n",
        "\n",
        "# Initialize the MLPWithBatchNormAndDropout\n",
        "model1 = MLPWithBatchNormAndDropout()\n",
        "\n",
        "# Define the loss function and optimizer\n",
        "loss_function1 = nn.CrossEntropyLoss()\n",
        "optimizer1 = torch.optim.Adam(model1.parameters(), lr=1e-3)\n",
        "\n",
        "# Initialize the MLPWithDropout\n",
        "model2 = MLPWithDropout()\n",
        "\n",
        "# Define the loss function and optimizer\n",
        "loss_function2 = nn.CrossEntropyLoss()\n",
        "optimizer2 = torch.optim.Adam(model2.parameters(), lr=1e-3)\n",
        "\n",
        "# Initialize the MLPWithBatchNorm\n",
        "model3 = MLPWithBatchNorm()\n",
        "\n",
        "# Define the loss function and optimizer\n",
        "loss_function3 = nn.CrossEntropyLoss()\n",
        "optimizer3 = torch.optim.Adam(model3.parameters(), lr=1e-3)"
      ],
      "id": "0a86605f"
    },
    {
      "cell_type": "code",
      "execution_count": 38,
      "metadata": {
        "id": "K7viS9gPbBk7"
      },
      "outputs": [],
      "source": [
        "def train_model(model,loss_function,optimiz,trainloader,lr_scheduler2 = None):\n",
        "  print(f\"Training of model is started ...\")\n",
        "  losses = []\n",
        "  per = tqdm(total = 5)\n",
        "  for epoch in range(0, 5): # 5 epochs at maximum\n",
        "  \n",
        "  \n",
        "      print(f'Starting epoch {epoch+1}')\n",
        "      \n",
        "      # Set current loss value\n",
        "      current_loss = 0.0\n",
        "      \n",
        "      # Iterate over the DataLoader for training data\n",
        "      \n",
        "      for i, data in enumerate(trainloader, 0):\n",
        "      \n",
        "        inputs, targets = data\n",
        "        \n",
        "        # Zero the gradients\n",
        "        optimiz.zero_grad()\n",
        "        \n",
        "        # Perform forward pass\n",
        "        outputs = model(inputs)\n",
        "        \n",
        "        # Compute loss\n",
        "        loss = loss_function(outputs, targets)\n",
        "        \n",
        "        # Perform backward pass\n",
        "        loss.backward()\n",
        "        \n",
        "        # Perform optimization\n",
        "        optimiz.step()\n",
        "      \n",
        "        \n",
        "        # Print statistics\n",
        "        current_loss += loss.item()\n",
        "      if(lr_scheduler2):\n",
        "        lr_scheduler2.step()\n",
        "      print(f'loss at {epoch} :{current_loss/len(trainloader)}') \n",
        "      losses.append(current_loss/len(trainloader))\n",
        "      per.update(1)\n",
        "  return losses\n",
        "\n"
      ],
      "id": "K7viS9gPbBk7"
    },
    {
      "cell_type": "code",
      "execution_count": 39,
      "metadata": {
        "id": "M7ZVXB4SdOHc"
      },
      "outputs": [],
      "source": [
        "# losses1 = train_model(model,loss_function,optimizer,trainloader_minibatch)\n",
        "# train_acc, train_f1,train_precision,train_recall = get_Accuracy_F1Score_Precision_Recall(trainloader_minibatch,model)\n",
        "# test_acc, test_f1,test_precision,test_recall = get_Accuracy_F1Score_Precision_Recall(testloader_minibatch,model)\n",
        "\n",
        "\n"
      ],
      "id": "M7ZVXB4SdOHc"
    },
    {
      "cell_type": "code",
      "execution_count": 40,
      "metadata": {
        "id": "_VSVzQITYDFD"
      },
      "outputs": [],
      "source": [
        "# print(\"Results:\", 'simpleMlp')\n",
        "# print(\"========\")\n",
        "# print(f\"{'':<10s}{'Accuracy':<10s}{'F1 Score':<10s}{'Precision':<10s}{'Recall':<10s}\")\n",
        "# print(f\"{'Train':<10s}{train_acc:<10.4f}{train_f1:<10.4f}{train_precision:<10.4f}{train_recall:<10.4f}\")\n",
        "# print(f\"{'Test':<10s}{test_acc:<10.4f}{test_f1:<10.4f}{test_precision:<10.4f}{test_recall:<10.4f}\")"
      ],
      "id": "_VSVzQITYDFD"
    },
    {
      "cell_type": "code",
      "execution_count": 41,
      "metadata": {
        "colab": {
          "base_uri": "https://localhost:8080/"
        },
        "id": "UBi2yepBnkhT",
        "outputId": "322ec358-8c0d-4d22-dad5-05185d8406ca"
      },
      "outputs": [
        {
          "output_type": "stream",
          "name": "stdout",
          "text": [
            "Training of model is started ...\n"
          ]
        },
        {
          "output_type": "stream",
          "name": "stderr",
          "text": [
            "\n",
            "  0%|          | 0/5 [00:00<?, ?it/s]\u001b[A"
          ]
        },
        {
          "output_type": "stream",
          "name": "stdout",
          "text": [
            "Starting epoch 1\n"
          ]
        },
        {
          "output_type": "stream",
          "name": "stderr",
          "text": [
            "\n",
            " 20%|██        | 1/5 [00:27<01:51, 27.85s/it]\u001b[A"
          ]
        },
        {
          "output_type": "stream",
          "name": "stdout",
          "text": [
            "loss at 0 :0.530111691248417\n",
            "Starting epoch 2\n"
          ]
        },
        {
          "output_type": "stream",
          "name": "stderr",
          "text": [
            "\n",
            " 40%|████      | 2/5 [00:56<01:25, 28.40s/it]\u001b[A"
          ]
        },
        {
          "output_type": "stream",
          "name": "stdout",
          "text": [
            "loss at 1 :0.3635001708408197\n",
            "Starting epoch 3\n"
          ]
        },
        {
          "output_type": "stream",
          "name": "stderr",
          "text": [
            "\n",
            " 60%|██████    | 3/5 [01:23<00:55, 27.90s/it]\u001b[A"
          ]
        },
        {
          "output_type": "stream",
          "name": "stdout",
          "text": [
            "loss at 2 :0.3369949528972308\n",
            "Starting epoch 4\n"
          ]
        },
        {
          "output_type": "stream",
          "name": "stderr",
          "text": [
            "\n",
            " 80%|████████  | 4/5 [01:51<00:27, 27.65s/it]\u001b[A"
          ]
        },
        {
          "output_type": "stream",
          "name": "stdout",
          "text": [
            "loss at 3 :0.31132446976701417\n",
            "Starting epoch 5\n"
          ]
        },
        {
          "output_type": "stream",
          "name": "stderr",
          "text": [
            "\n",
            "100%|██████████| 5/5 [02:19<00:00, 27.81s/it]"
          ]
        },
        {
          "output_type": "stream",
          "name": "stdout",
          "text": [
            "loss at 4 :0.29013373488883176\n"
          ]
        },
        {
          "output_type": "stream",
          "name": "stderr",
          "text": [
            "\n"
          ]
        },
        {
          "output_type": "stream",
          "name": "stdout",
          "text": [
            "Results: MLPWithBatchNormAndDropout\n",
            "========\n",
            "          Accuracy  F1 Score  Precision Recall    \n",
            "Train     0.9186    0.9185    0.9186    0.9186    \n",
            "Test      0.9175    0.9173    0.9173    0.9175    \n",
            "Training of model is started ...\n"
          ]
        },
        {
          "output_type": "stream",
          "name": "stderr",
          "text": [
            "\n",
            "  0%|          | 0/5 [00:00<?, ?it/s]\u001b[A"
          ]
        },
        {
          "output_type": "stream",
          "name": "stdout",
          "text": [
            "Starting epoch 1\n"
          ]
        },
        {
          "output_type": "stream",
          "name": "stderr",
          "text": [
            "\n",
            " 20%|██        | 1/5 [00:27<01:48, 27.22s/it]\u001b[A"
          ]
        },
        {
          "output_type": "stream",
          "name": "stdout",
          "text": [
            "loss at 0 :0.528748635149002\n",
            "Starting epoch 2\n"
          ]
        },
        {
          "output_type": "stream",
          "name": "stderr",
          "text": [
            "\n",
            " 40%|████      | 2/5 [00:54<01:21, 27.04s/it]\u001b[A"
          ]
        },
        {
          "output_type": "stream",
          "name": "stdout",
          "text": [
            "loss at 1 :0.33500209688742955\n",
            "Starting epoch 3\n"
          ]
        },
        {
          "output_type": "stream",
          "name": "stderr",
          "text": [
            "\n",
            " 60%|██████    | 3/5 [01:21<00:54, 27.06s/it]\u001b[A"
          ]
        },
        {
          "output_type": "stream",
          "name": "stdout",
          "text": [
            "loss at 2 :0.2914000506689151\n",
            "Starting epoch 4\n"
          ]
        },
        {
          "output_type": "stream",
          "name": "stderr",
          "text": [
            "\n",
            " 80%|████████  | 4/5 [01:48<00:27, 27.10s/it]\u001b[A"
          ]
        },
        {
          "output_type": "stream",
          "name": "stdout",
          "text": [
            "loss at 3 :0.2652249244103829\n",
            "Starting epoch 5\n"
          ]
        },
        {
          "output_type": "stream",
          "name": "stderr",
          "text": [
            "\n",
            "100%|██████████| 5/5 [02:15<00:00, 27.19s/it]"
          ]
        },
        {
          "output_type": "stream",
          "name": "stdout",
          "text": [
            "loss at 4 :0.254495851568381\n"
          ]
        },
        {
          "output_type": "stream",
          "name": "stderr",
          "text": [
            "\n"
          ]
        },
        {
          "output_type": "stream",
          "name": "stdout",
          "text": [
            "Results: MLPWithDropout\n",
            "========\n",
            "          Accuracy  F1 Score  Precision Recall    \n",
            "Train     0.9303    0.9299    0.9306    0.9303    \n",
            "Test      0.9253    0.9250    0.9259    0.9253    \n",
            "Training of model is started ...\n"
          ]
        },
        {
          "output_type": "stream",
          "name": "stderr",
          "text": [
            "\n",
            "  0%|          | 0/5 [00:00<?, ?it/s]\u001b[A"
          ]
        },
        {
          "output_type": "stream",
          "name": "stdout",
          "text": [
            "Starting epoch 1\n"
          ]
        },
        {
          "output_type": "stream",
          "name": "stderr",
          "text": [
            "\n",
            " 20%|██        | 1/5 [00:27<01:50, 27.63s/it]\u001b[A"
          ]
        },
        {
          "output_type": "stream",
          "name": "stdout",
          "text": [
            "loss at 0 :0.25283110848267876\n",
            "Starting epoch 2\n"
          ]
        },
        {
          "output_type": "stream",
          "name": "stderr",
          "text": [
            "\n",
            " 40%|████      | 2/5 [00:55<01:23, 27.74s/it]\u001b[A"
          ]
        },
        {
          "output_type": "stream",
          "name": "stdout",
          "text": [
            "loss at 1 :0.13129124641368786\n",
            "Starting epoch 3\n"
          ]
        },
        {
          "output_type": "stream",
          "name": "stderr",
          "text": [
            "\n",
            " 60%|██████    | 3/5 [01:23<00:55, 27.81s/it]\u001b[A"
          ]
        },
        {
          "output_type": "stream",
          "name": "stdout",
          "text": [
            "loss at 2 :0.10511049604664247\n",
            "Starting epoch 4\n"
          ]
        },
        {
          "output_type": "stream",
          "name": "stderr",
          "text": [
            "\n",
            " 80%|████████  | 4/5 [01:51<00:27, 27.84s/it]\u001b[A"
          ]
        },
        {
          "output_type": "stream",
          "name": "stdout",
          "text": [
            "loss at 3 :0.0900629474868377\n",
            "Starting epoch 5\n"
          ]
        },
        {
          "output_type": "stream",
          "name": "stderr",
          "text": [
            "\n",
            "100%|██████████| 5/5 [02:19<00:00, 27.83s/it]"
          ]
        },
        {
          "output_type": "stream",
          "name": "stdout",
          "text": [
            "loss at 4 :0.07970555354151874\n"
          ]
        },
        {
          "output_type": "stream",
          "name": "stderr",
          "text": [
            "\n"
          ]
        },
        {
          "output_type": "stream",
          "name": "stdout",
          "text": [
            "Results: MLPWithBatchNorm\n",
            "========\n",
            "          Accuracy  F1 Score  Precision Recall    \n",
            "Train     0.9781    0.9782    0.9782    0.9781    \n",
            "Test      0.9682    0.9682    0.9685    0.9682    \n"
          ]
        }
      ],
      "source": [
        "losses2 = train_model(model1,loss_function1,optimizer1,trainloader_minibatch)\n",
        "train_acc, train_f1,train_precision,train_recall = get_Accuracy_F1Score_Precision_Recall(trainloader_minibatch,model1)\n",
        "test_acc, test_f1,test_precision,test_recall = get_Accuracy_F1Score_Precision_Recall(testloader_minibatch,model1)\n",
        "print(\"Results:\", 'MLPWithBatchNormAndDropout')\n",
        "print(\"========\")\n",
        "print(f\"{'':<10s}{'Accuracy':<10s}{'F1 Score':<10s}{'Precision':<10s}{'Recall':<10s}\")\n",
        "print(f\"{'Train':<10s}{train_acc:<10.4f}{train_f1:<10.4f}{train_precision:<10.4f}{train_recall:<10.4f}\")\n",
        "print(f\"{'Test':<10s}{test_acc:<10.4f}{test_f1:<10.4f}{test_precision:<10.4f}{test_recall:<10.4f}\")\n",
        "losses3 = train_model(model2,loss_function2,optimizer2,trainloader_minibatch)\n",
        "train_acc, train_f1,train_precision,train_recall = get_Accuracy_F1Score_Precision_Recall(trainloader_minibatch,model2)\n",
        "test_acc, test_f1,test_precision,test_recall = get_Accuracy_F1Score_Precision_Recall(testloader_minibatch,model2)\n",
        "print(\"Results:\", 'MLPWithDropout')\n",
        "print(\"========\")\n",
        "print(f\"{'':<10s}{'Accuracy':<10s}{'F1 Score':<10s}{'Precision':<10s}{'Recall':<10s}\")\n",
        "print(f\"{'Train':<10s}{train_acc:<10.4f}{train_f1:<10.4f}{train_precision:<10.4f}{train_recall:<10.4f}\")\n",
        "print(f\"{'Test':<10s}{test_acc:<10.4f}{test_f1:<10.4f}{test_precision:<10.4f}{test_recall:<10.4f}\")\n",
        "losses4 = train_model(model3,loss_function3,optimizer3,trainloader_minibatch)\n",
        "train_acc, train_f1,train_precision,train_recall = get_Accuracy_F1Score_Precision_Recall(trainloader_minibatch,model3)\n",
        "test_acc, test_f1,test_precision,test_recall = get_Accuracy_F1Score_Precision_Recall(testloader_minibatch,model3)\n",
        "print(\"Results:\", 'MLPWithBatchNorm')\n",
        "print(\"========\")\n",
        "print(f\"{'':<10s}{'Accuracy':<10s}{'F1 Score':<10s}{'Precision':<10s}{'Recall':<10s}\")\n",
        "print(f\"{'Train':<10s}{train_acc:<10.4f}{train_f1:<10.4f}{train_precision:<10.4f}{train_recall:<10.4f}\")\n",
        "print(f\"{'Test':<10s}{test_acc:<10.4f}{test_f1:<10.4f}{test_precision:<10.4f}{test_recall:<10.4f}\")"
      ],
      "id": "UBi2yepBnkhT"
    },
    {
      "cell_type": "code",
      "execution_count": 42,
      "metadata": {
        "colab": {
          "base_uri": "https://localhost:8080/",
          "height": 279
        },
        "id": "3KZ0UE5SBlmm",
        "outputId": "c6f01c22-aab0-4497-b096-b9abdf8d40f3"
      },
      "outputs": [
        {
          "output_type": "display_data",
          "data": {
            "text/plain": [
              "<Figure size 432x288 with 1 Axes>"
            ],
            "image/png": "[encoded data removed]"
          },
          "metadata": {
            "needs_background": "light"
          }
        }
      ],
      "source": [
        "import matplotlib.pyplot as plt\n",
        "\n",
        "plt.plot(loss_adam_train, label='SimpleMLP')\n",
        "plt.plot(losses2, label='MLPWithBatchNormAndDropout')\n",
        "plt.plot(losses3, label='MLPWithDropout')\n",
        "plt.plot(losses4, label = 'MLPWithBatchNorm')\n",
        "plt.xlabel('Epoch')\n",
        "plt.ylabel('Training loss')\n",
        "plt.legend()\n",
        "plt.show()"
      ],
      "id": "3KZ0UE5SBlmm"
    },
    {
      "cell_type": "code",
      "execution_count": 42,
      "metadata": {
        "id": "gduh8J7gfPTh"
      },
      "outputs": [],
      "source": [],
      "id": "gduh8J7gfPTh"
    },
    {
      "cell_type": "markdown",
      "metadata": {
        "id": "159e3334"
      },
      "source": [
        "### Step eight: Mini-batch vs Stocastic\n",
        "Now that you might have a clear winner in your mind regarding which model and settings perform the best, train it on mini-batch and stocastic and compare time taken, loss curve, accuracy etc.\n",
        "\n",
        "Perform an analysis like never before!"
      ],
      "id": "159e3334"
    },
    {
      "cell_type": "code",
      "execution_count": 43,
      "metadata": {
        "id": "fa6fd837"
      },
      "outputs": [],
      "source": [
        "# code here\n",
        "\n",
        "model_mini = MLPWithBatchNorm()\n",
        "\n",
        "# Define the loss function and optimizer\n",
        "loss_function1 = nn.CrossEntropyLoss()\n",
        "optimizer1 = torch.optim.Adam(model_mini.parameters(), lr=1e-3)\n",
        "# lr_scheduler2_1 = optim.lr_scheduler.ExponentialLR(optimizer1, gamma=0.9)\n",
        "\n",
        "\n",
        "model_stocastic = MLPWithBatchNorm()\n",
        "\n",
        "# Define the loss function and optimizer\n",
        "loss_function2 = nn.CrossEntropyLoss()\n",
        "optimizer2 = torch.optim.Adam(model_stocastic.parameters(), lr=1e-3)\n",
        "# lr_scheduler2_2 = optim.lr_scheduler.ExponentialLR(optimizer2, gamma=0.9)\n",
        "\n"
      ],
      "id": "fa6fd837"
    },
    {
      "cell_type": "code",
      "execution_count": 44,
      "metadata": {
        "colab": {
          "base_uri": "https://localhost:8080/",
          "height": 732
        },
        "id": "4uiO46pTGD-3",
        "outputId": "9e5c69ae-03f2-49cd-e1bf-3549ade3dba5"
      },
      "outputs": [
        {
          "output_type": "stream",
          "name": "stdout",
          "text": [
            "Training of model is started ...\n"
          ]
        },
        {
          "output_type": "stream",
          "name": "stderr",
          "text": [
            "\n",
            "  0%|          | 0/5 [00:00<?, ?it/s]\u001b[A"
          ]
        },
        {
          "output_type": "stream",
          "name": "stdout",
          "text": [
            "Starting epoch 1\n"
          ]
        },
        {
          "output_type": "stream",
          "name": "stderr",
          "text": [
            "\n",
            " 20%|██        | 1/5 [00:26<01:47, 26.92s/it]\u001b[A"
          ]
        },
        {
          "output_type": "stream",
          "name": "stdout",
          "text": [
            "loss at 0 :0.2554418805355827\n",
            "Starting epoch 2\n"
          ]
        },
        {
          "output_type": "stream",
          "name": "stderr",
          "text": [
            "\n",
            " 40%|████      | 2/5 [00:54<01:21, 27.33s/it]\u001b[A"
          ]
        },
        {
          "output_type": "stream",
          "name": "stdout",
          "text": [
            "loss at 1 :0.13542566021556657\n",
            "Starting epoch 3\n"
          ]
        },
        {
          "output_type": "stream",
          "name": "stderr",
          "text": [
            "\n",
            " 60%|██████    | 3/5 [01:21<00:54, 27.28s/it]\u001b[A"
          ]
        },
        {
          "output_type": "stream",
          "name": "stdout",
          "text": [
            "loss at 2 :0.10337245416864753\n",
            "Starting epoch 4\n"
          ]
        },
        {
          "output_type": "stream",
          "name": "stderr",
          "text": [
            "\n",
            " 80%|████████  | 4/5 [01:48<00:27, 27.22s/it]\u001b[A"
          ]
        },
        {
          "output_type": "stream",
          "name": "stdout",
          "text": [
            "loss at 3 :0.08759124559325476\n",
            "Starting epoch 5\n"
          ]
        },
        {
          "output_type": "stream",
          "name": "stderr",
          "text": [
            "\n",
            "100%|██████████| 5/5 [02:16<00:00, 27.20s/it]\n"
          ]
        },
        {
          "output_type": "stream",
          "name": "stdout",
          "text": [
            "loss at 4 :0.077470841318431\n",
            "Training of model is started ...\n"
          ]
        },
        {
          "output_type": "stream",
          "name": "stderr",
          "text": [
            "\n",
            "  0%|          | 0/5 [00:00<?, ?it/s]\u001b[A"
          ]
        },
        {
          "output_type": "stream",
          "name": "stdout",
          "text": [
            "Starting epoch 1\n"
          ]
        },
        {
          "output_type": "error",
          "ename": "ValueError",
          "evalue": "ignored",
          "traceback": [
            "\u001b[0;31m---------------------------------------------------------------------------\u001b[0m",
            "\u001b[0;31mValueError\u001b[0m                                Traceback (most recent call last)",
            "\u001b[0;32m<ipython-input-44-22b61ab61ebd>\u001b[0m in \u001b[0;36m<module>\u001b[0;34m\u001b[0m\n\u001b[1;32m      1\u001b[0m \u001b[0mlosses1\u001b[0m \u001b[0;34m=\u001b[0m \u001b[0mtrain_model\u001b[0m\u001b[0;34m(\u001b[0m\u001b[0mmodel_mini\u001b[0m\u001b[0;34m,\u001b[0m\u001b[0mloss_function1\u001b[0m\u001b[0;34m,\u001b[0m\u001b[0moptimizer1\u001b[0m\u001b[0;34m,\u001b[0m\u001b[0mtrainloader_minibatch\u001b[0m\u001b[0;34m)\u001b[0m\u001b[0;34m\u001b[0m\u001b[0;34m\u001b[0m\u001b[0m\n\u001b[0;32m----> 2\u001b[0;31m \u001b[0mlosses2\u001b[0m \u001b[0;34m=\u001b[0m \u001b[0mtrain_model\u001b[0m\u001b[0;34m(\u001b[0m\u001b[0mmodel_stocastic\u001b[0m\u001b[0;34m,\u001b[0m\u001b[0mloss_function2\u001b[0m\u001b[0;34m,\u001b[0m\u001b[0moptimizer2\u001b[0m\u001b[0;34m,\u001b[0m\u001b[0mtrainloader_stochastic\u001b[0m\u001b[0;34m)\u001b[0m\u001b[0;34m\u001b[0m\u001b[0;34m\u001b[0m\u001b[0m\n\u001b[0m\u001b[1;32m      3\u001b[0m \u001b[0;34m\u001b[0m\u001b[0m\n",
            "\u001b[0;32m<ipython-input-38-a944f8067644>\u001b[0m in \u001b[0;36mtrain_model\u001b[0;34m(model, loss_function, optimiz, trainloader, lr_scheduler2)\u001b[0m\n\u001b[1;32m     21\u001b[0m \u001b[0;34m\u001b[0m\u001b[0m\n\u001b[1;32m     22\u001b[0m         \u001b[0;31m# Perform forward pass\u001b[0m\u001b[0;34m\u001b[0m\u001b[0;34m\u001b[0m\u001b[0m\n\u001b[0;32m---> 23\u001b[0;31m         \u001b[0moutputs\u001b[0m \u001b[0;34m=\u001b[0m \u001b[0mmodel\u001b[0m\u001b[0;34m(\u001b[0m\u001b[0minputs\u001b[0m\u001b[0;34m)\u001b[0m\u001b[0;34m\u001b[0m\u001b[0;34m\u001b[0m\u001b[0m\n\u001b[0m\u001b[1;32m     24\u001b[0m \u001b[0;34m\u001b[0m\u001b[0m\n\u001b[1;32m     25\u001b[0m         \u001b[0;31m# Compute loss\u001b[0m\u001b[0;34m\u001b[0m\u001b[0;34m\u001b[0m\u001b[0m\n",
            "\u001b[0;32m/usr/local/lib/python3.9/dist-packages/torch/nn/modules/module.py\u001b[0m in \u001b[0;36m_call_impl\u001b[0;34m(self, *input, **kwargs)\u001b[0m\n\u001b[1;32m   1192\u001b[0m         if not (self._backward_hooks or self._forward_hooks or self._forward_pre_hooks or _global_backward_hooks\n\u001b[1;32m   1193\u001b[0m                 or _global_forward_hooks or _global_forward_pre_hooks):\n\u001b[0;32m-> 1194\u001b[0;31m             \u001b[0;32mreturn\u001b[0m \u001b[0mforward_call\u001b[0m\u001b[0;34m(\u001b[0m\u001b[0;34m*\u001b[0m\u001b[0minput\u001b[0m\u001b[0;34m,\u001b[0m \u001b[0;34m**\u001b[0m\u001b[0mkwargs\u001b[0m\u001b[0;34m)\u001b[0m\u001b[0;34m\u001b[0m\u001b[0;34m\u001b[0m\u001b[0m\n\u001b[0m\u001b[1;32m   1195\u001b[0m         \u001b[0;31m# Do not call functions when jit is used\u001b[0m\u001b[0;34m\u001b[0m\u001b[0;34m\u001b[0m\u001b[0m\n\u001b[1;32m   1196\u001b[0m         \u001b[0mfull_backward_hooks\u001b[0m\u001b[0;34m,\u001b[0m \u001b[0mnon_full_backward_hooks\u001b[0m \u001b[0;34m=\u001b[0m \u001b[0;34m[\u001b[0m\u001b[0;34m]\u001b[0m\u001b[0;34m,\u001b[0m \u001b[0;34m[\u001b[0m\u001b[0;34m]\u001b[0m\u001b[0;34m\u001b[0m\u001b[0;34m\u001b[0m\u001b[0m\n",
            "\u001b[0;32m<ipython-input-34-5f4749e82dd6>\u001b[0m in \u001b[0;36mforward\u001b[0;34m(self, x)\u001b[0m\n\u001b[1;32m     15\u001b[0m     \u001b[0;32mdef\u001b[0m \u001b[0mforward\u001b[0m\u001b[0;34m(\u001b[0m\u001b[0mself\u001b[0m\u001b[0;34m,\u001b[0m \u001b[0mx\u001b[0m\u001b[0;34m)\u001b[0m\u001b[0;34m:\u001b[0m\u001b[0;34m\u001b[0m\u001b[0;34m\u001b[0m\u001b[0m\n\u001b[1;32m     16\u001b[0m         \u001b[0mx\u001b[0m \u001b[0;34m=\u001b[0m \u001b[0mx\u001b[0m\u001b[0;34m.\u001b[0m\u001b[0mview\u001b[0m\u001b[0;34m(\u001b[0m\u001b[0mx\u001b[0m\u001b[0;34m.\u001b[0m\u001b[0mshape\u001b[0m\u001b[0;34m[\u001b[0m\u001b[0;36m0\u001b[0m\u001b[0;34m]\u001b[0m\u001b[0;34m,\u001b[0m \u001b[0;34m-\u001b[0m\u001b[0;36m1\u001b[0m\u001b[0;34m)\u001b[0m\u001b[0;34m\u001b[0m\u001b[0;34m\u001b[0m\u001b[0m\n\u001b[0;32m---> 17\u001b[0;31m         \u001b[0mx\u001b[0m \u001b[0;34m=\u001b[0m \u001b[0mself\u001b[0m\u001b[0;34m.\u001b[0m\u001b[0mbn1\u001b[0m\u001b[0;34m(\u001b[0m\u001b[0mself\u001b[0m\u001b[0;34m.\u001b[0m\u001b[0mrelu\u001b[0m\u001b[0;34m(\u001b[0m\u001b[0mself\u001b[0m\u001b[0;34m.\u001b[0m\u001b[0mlayer1\u001b[0m\u001b[0;34m(\u001b[0m\u001b[0mx\u001b[0m\u001b[0;34m)\u001b[0m\u001b[0;34m)\u001b[0m\u001b[0;34m)\u001b[0m\u001b[0;34m\u001b[0m\u001b[0;34m\u001b[0m\u001b[0m\n\u001b[0m\u001b[1;32m     18\u001b[0m         \u001b[0mx\u001b[0m \u001b[0;34m=\u001b[0m \u001b[0mself\u001b[0m\u001b[0;34m.\u001b[0m\u001b[0mbn2\u001b[0m\u001b[0;34m(\u001b[0m\u001b[0mself\u001b[0m\u001b[0;34m.\u001b[0m\u001b[0mrelu\u001b[0m\u001b[0;34m(\u001b[0m\u001b[0mself\u001b[0m\u001b[0;34m.\u001b[0m\u001b[0mlayer2\u001b[0m\u001b[0;34m(\u001b[0m\u001b[0mx\u001b[0m\u001b[0;34m)\u001b[0m\u001b[0;34m)\u001b[0m\u001b[0;34m)\u001b[0m\u001b[0;34m\u001b[0m\u001b[0;34m\u001b[0m\u001b[0m\n\u001b[1;32m     19\u001b[0m         \u001b[0mx\u001b[0m \u001b[0;34m=\u001b[0m \u001b[0mself\u001b[0m\u001b[0;34m.\u001b[0m\u001b[0mlayer3\u001b[0m\u001b[0;34m(\u001b[0m\u001b[0mx\u001b[0m\u001b[0;34m)\u001b[0m\u001b[0;34m\u001b[0m\u001b[0;34m\u001b[0m\u001b[0m\n",
            "\u001b[0;32m/usr/local/lib/python3.9/dist-packages/torch/nn/modules/module.py\u001b[0m in \u001b[0;36m_call_impl\u001b[0;34m(self, *input, **kwargs)\u001b[0m\n\u001b[1;32m   1192\u001b[0m         if not (self._backward_hooks or self._forward_hooks or self._forward_pre_hooks or _global_backward_hooks\n\u001b[1;32m   1193\u001b[0m                 or _global_forward_hooks or _global_forward_pre_hooks):\n\u001b[0;32m-> 1194\u001b[0;31m             \u001b[0;32mreturn\u001b[0m \u001b[0mforward_call\u001b[0m\u001b[0;34m(\u001b[0m\u001b[0;34m*\u001b[0m\u001b[0minput\u001b[0m\u001b[0;34m,\u001b[0m \u001b[0;34m**\u001b[0m\u001b[0mkwargs\u001b[0m\u001b[0;34m)\u001b[0m\u001b[0;34m\u001b[0m\u001b[0;34m\u001b[0m\u001b[0m\n\u001b[0m\u001b[1;32m   1195\u001b[0m         \u001b[0;31m# Do not call functions when jit is used\u001b[0m\u001b[0;34m\u001b[0m\u001b[0;34m\u001b[0m\u001b[0m\n\u001b[1;32m   1196\u001b[0m         \u001b[0mfull_backward_hooks\u001b[0m\u001b[0;34m,\u001b[0m \u001b[0mnon_full_backward_hooks\u001b[0m \u001b[0;34m=\u001b[0m \u001b[0;34m[\u001b[0m\u001b[0;34m]\u001b[0m\u001b[0;34m,\u001b[0m \u001b[0;34m[\u001b[0m\u001b[0;34m]\u001b[0m\u001b[0;34m\u001b[0m\u001b[0;34m\u001b[0m\u001b[0m\n",
            "\u001b[0;32m/usr/local/lib/python3.9/dist-packages/torch/nn/modules/batchnorm.py\u001b[0m in \u001b[0;36mforward\u001b[0;34m(self, input)\u001b[0m\n\u001b[1;32m    169\u001b[0m         \u001b[0mused\u001b[0m \u001b[0;32mfor\u001b[0m \u001b[0mnormalization\u001b[0m \u001b[0;34m(\u001b[0m\u001b[0mi\u001b[0m\u001b[0;34m.\u001b[0m\u001b[0me\u001b[0m\u001b[0;34m.\u001b[0m \u001b[0;32min\u001b[0m \u001b[0meval\u001b[0m \u001b[0mmode\u001b[0m \u001b[0mwhen\u001b[0m \u001b[0mbuffers\u001b[0m \u001b[0mare\u001b[0m \u001b[0;32mnot\u001b[0m \u001b[0;32mNone\u001b[0m\u001b[0;34m)\u001b[0m\u001b[0;34m.\u001b[0m\u001b[0;34m\u001b[0m\u001b[0;34m\u001b[0m\u001b[0m\n\u001b[1;32m    170\u001b[0m         \"\"\"\n\u001b[0;32m--> 171\u001b[0;31m         return F.batch_norm(\n\u001b[0m\u001b[1;32m    172\u001b[0m             \u001b[0minput\u001b[0m\u001b[0;34m,\u001b[0m\u001b[0;34m\u001b[0m\u001b[0;34m\u001b[0m\u001b[0m\n\u001b[1;32m    173\u001b[0m             \u001b[0;31m# If buffers are not to be tracked, ensure that they won't be updated\u001b[0m\u001b[0;34m\u001b[0m\u001b[0;34m\u001b[0m\u001b[0m\n",
            "\u001b[0;32m/usr/local/lib/python3.9/dist-packages/torch/nn/functional.py\u001b[0m in \u001b[0;36mbatch_norm\u001b[0;34m(input, running_mean, running_var, weight, bias, training, momentum, eps)\u001b[0m\n\u001b[1;32m   2446\u001b[0m         )\n\u001b[1;32m   2447\u001b[0m     \u001b[0;32mif\u001b[0m \u001b[0mtraining\u001b[0m\u001b[0;34m:\u001b[0m\u001b[0;34m\u001b[0m\u001b[0;34m\u001b[0m\u001b[0m\n\u001b[0;32m-> 2448\u001b[0;31m         \u001b[0m_verify_batch_size\u001b[0m\u001b[0;34m(\u001b[0m\u001b[0minput\u001b[0m\u001b[0;34m.\u001b[0m\u001b[0msize\u001b[0m\u001b[0;34m(\u001b[0m\u001b[0;34m)\u001b[0m\u001b[0;34m)\u001b[0m\u001b[0;34m\u001b[0m\u001b[0;34m\u001b[0m\u001b[0m\n\u001b[0m\u001b[1;32m   2449\u001b[0m \u001b[0;34m\u001b[0m\u001b[0m\n\u001b[1;32m   2450\u001b[0m     return torch.batch_norm(\n",
            "\u001b[0;32m/usr/local/lib/python3.9/dist-packages/torch/nn/functional.py\u001b[0m in \u001b[0;36m_verify_batch_size\u001b[0;34m(size)\u001b[0m\n\u001b[1;32m   2414\u001b[0m         \u001b[0msize_prods\u001b[0m \u001b[0;34m*=\u001b[0m \u001b[0msize\u001b[0m\u001b[0;34m[\u001b[0m\u001b[0mi\u001b[0m \u001b[0;34m+\u001b[0m \u001b[0;36m2\u001b[0m\u001b[0;34m]\u001b[0m\u001b[0;34m\u001b[0m\u001b[0;34m\u001b[0m\u001b[0m\n\u001b[1;32m   2415\u001b[0m     \u001b[0;32mif\u001b[0m \u001b[0msize_prods\u001b[0m \u001b[0;34m==\u001b[0m \u001b[0;36m1\u001b[0m\u001b[0;34m:\u001b[0m\u001b[0;34m\u001b[0m\u001b[0;34m\u001b[0m\u001b[0m\n\u001b[0;32m-> 2416\u001b[0;31m         \u001b[0;32mraise\u001b[0m \u001b[0mValueError\u001b[0m\u001b[0;34m(\u001b[0m\u001b[0;34m\"Expected more than 1 value per channel when training, got input size {}\"\u001b[0m\u001b[0;34m.\u001b[0m\u001b[0mformat\u001b[0m\u001b[0;34m(\u001b[0m\u001b[0msize\u001b[0m\u001b[0;34m)\u001b[0m\u001b[0;34m)\u001b[0m\u001b[0;34m\u001b[0m\u001b[0;34m\u001b[0m\u001b[0m\n\u001b[0m\u001b[1;32m   2417\u001b[0m \u001b[0;34m\u001b[0m\u001b[0m\n\u001b[1;32m   2418\u001b[0m \u001b[0;34m\u001b[0m\u001b[0m\n",
            "\u001b[0;31mValueError\u001b[0m: Expected more than 1 value per channel when training, got input size torch.Size([1, 128])"
          ]
        }
      ],
      "source": [
        "losses1 = train_model(model_mini,loss_function1,optimizer1,trainloader_minibatch)\n",
        "losses2 = train_model(model_stocastic,loss_function2,optimizer2,trainloader_stochastic)\n",
        "\n"
      ],
      "id": "4uiO46pTGD-3"
    },
    {
      "cell_type": "code",
      "execution_count": null,
      "metadata": {
        "id": "zFvzywWgGFeJ"
      },
      "outputs": [],
      "source": [
        "train_acc, train_f1,train_precision,train_recall = get_Accuracy_F1Score_Precision_Recall(trainloader_minibatch,model_mini)\n",
        "test_acc, test_f1,test_precision,test_recall = get_Accuracy_F1Score_Precision_Recall(testloader_minibatch,model_mini)\n",
        "print(\"Results:\", 'SimpleMLP_mini')\n",
        "print(\"========\")\n",
        "print(f\"{'':<10s}{'Accuracy':<10s}{'F1 Score':<10s}{'Precision':<10s}{'Recall':<10s}\")\n",
        "print(f\"{'Train':<10s}{train_acc:<10.4f}{train_f1:<10.4f}{train_precision:<10.4f}{train_recall:<10.4f}\")\n",
        "print(f\"{'Test':<10s}{test_acc:<10.4f}{test_f1:<10.4f}{test_precision:<10.4f}{test_recall:<10.4f}\")\n",
        "\n",
        "\n",
        "train_acc, train_f1,train_precision,train_recall = get_Accuracy_F1Score_Precision_Recall(trainloader_stochastic,model_stocastic)\n",
        "test_acc, test_f1,test_precision,test_recall = get_Accuracy_F1Score_Precision_Recall(testloader_stochastic,model_stocastic)\n",
        "print(\"Results:\", 'SimpleMLP_stoch')\n",
        "print(\"========\")\n",
        "print(f\"{'':<10s}{'Accuracy':<10s}{'F1 Score':<10s}{'Precision':<10s}{'Recall':<10s}\")\n",
        "print(f\"{'Train':<10s}{train_acc:<10.4f}{train_f1:<10.4f}{train_precision:<10.4f}{train_recall:<10.4f}\")\n",
        "print(f\"{'Test':<10s}{test_acc:<10.4f}{test_f1:<10.4f}{test_precision:<10.4f}{test_recall:<10.4f}\")"
      ],
      "id": "zFvzywWgGFeJ"
    },
    {
      "cell_type": "code",
      "execution_count": null,
      "metadata": {
        "id": "LFUA7wcqOs5V"
      },
      "outputs": [],
      "source": [
        "import matplotlib.pyplot as plt\n",
        "\n",
        "plt.plot(losses1, label='SimpleMLP_mini')\n",
        "plt.xlabel('Epoch')\n",
        "plt.ylabel('Training loss')\n",
        "plt.legend()\n",
        "plt.show()\n",
        "\n",
        "import matplotlib.pyplot as plt\n",
        "\n",
        "plt.plot(losses2, label='SimpleMLP_stoch')\n",
        "\n",
        "plt.xlabel('Epoch')\n",
        "plt.ylabel('Training loss')\n",
        "plt.legend()\n",
        "plt.show()"
      ],
      "id": "LFUA7wcqOs5V"
    },
    {
      "cell_type": "markdown",
      "metadata": {
        "id": "d6f04f42"
      },
      "source": [
        "### And most importantly!!! What did we learn?\n",
        "Discuss any and all learnings here. The discussions must be all-encompassing so that we know what did you learn. \n",
        "\n",
        "Please do not copy from your friend or copy-paste from the internet. We can see repetitions during evaluations."
      ],
      "id": "d6f04f42"
    },
    {
      "cell_type": "code",
      "execution_count": null,
      "metadata": {
        "id": "1717f8ce"
      },
      "outputs": [],
      "source": [
        "# text here"
      ],
      "id": "1717f8ce"
    },
    {
      "cell_type": "code",
      "execution_count": null,
      "metadata": {
        "id": "S2SoMeAfGxdV"
      },
      "outputs": [],
      "source": [],
      "id": "S2SoMeAfGxdV"
    }
  ],
  "metadata": {
    "colab": {
      "provenance": [],
      "include_colab_link": true
    },
    "kernelspec": {
      "display_name": "env",
      "language": "python",
      "name": "env"
    },
    "language_info": {
      "codemirror_mode": {
        "name": "ipython",
        "version": 3
      },
      "file_extension": ".py",
      "mimetype": "text/x-python",
      "name": "python",
      "nbconvert_exporter": "python",
      "pygments_lexer": "ipython3",
      "version": "3.8.10"
    }
  },
  "nbformat": 4,
  "nbformat_minor": 5
}