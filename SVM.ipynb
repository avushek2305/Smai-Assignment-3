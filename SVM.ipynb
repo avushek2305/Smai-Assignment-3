{
  "cells": [
    {
      "cell_type": "markdown",
      "metadata": {
        "id": "view-in-github",
        "colab_type": "text"
      },
      "source": [
        "<a href=\"https://colab.research.google.com/github/avushek2305/Smai-Assignment-3/blob/main/SVM.ipynb\" target=\"_parent\"><img src=\"https://colab.research.google.com/assets/colab-badge.svg\" alt=\"Open In Colab\"/></a>"
      ]
    },
    {
      "cell_type": "markdown",
      "metadata": {
        "id": "e709daec-676f-43c4-b995-cc7ab58ecda0"
      },
      "source": [
        "# SMAI Assignment - 3\n",
        "\n",
        "## Question - `1` : Support Vector Machines\n",
        "\n",
        "| | |\n",
        "|- | -|\n",
        "| Course | Statistical Methods in AI |\n",
        "| Release Date | `09.03.2023` |\n",
        "| Due Date | `24.03.2023` |"
      ],
      "id": "e709daec-676f-43c4-b995-cc7ab58ecda0"
    },
    {
      "cell_type": "markdown",
      "metadata": {
        "id": "af3b5b55-94e7-4d17-a3c6-bc9246d7b116"
      },
      "source": [
        "This section is divided into 2 subsections.\n",
        "\n",
        "\n",
        "*   In the first subsection, you will work on a synthetic dataset and visualize the boundary predicted by SVM. You will also vary the value of C-parameter and see how the decision boundary changes. **Please note that you cannot use inbuilt sklearn function for SVM in this sub-section**. You can only use a QCQP (Quadratically Constrained Quadratic Program) solver like CVXPY. \n",
        "\n",
        "  References which you may find helpful for this subsection: \n",
        "  \n",
        "  1.   https://www.cvxpy.org/\n",
        "  2.   https://www.cvxpy.org/examples/basic/quadratic_program.html\n",
        "\n",
        "  Note that in this section you are expected to show how you derived the Quadratically Constrained form(which can be passed into the solver) from the basic principles of SVM algorithm\n",
        "*  In the second subsection you will use be using the famous MNIST dataset to explore various kernels and report the results. **Please note you may use inbuilt sklearn SVM functions in this subsection**\n"
      ],
      "id": "af3b5b55-94e7-4d17-a3c6-bc9246d7b116"
    },
    {
      "cell_type": "code",
      "execution_count": null,
      "metadata": {
        "id": "5024e6b9"
      },
      "outputs": [],
      "source": [
        "# !pip install numpy\n",
        "# !pip install matplotlib\n",
        "# !pip install cvxpy\n",
        "import numpy as np\n",
        "import cvxpy as cp\n",
        "import matplotlib.pyplot as plt"
      ],
      "id": "5024e6b9"
    },
    {
      "cell_type": "markdown",
      "metadata": {
        "id": "122ebcc9"
      },
      "source": [
        "### Subsection 1"
      ],
      "id": "122ebcc9"
    },
    {
      "cell_type": "code",
      "execution_count": null,
      "metadata": {
        "id": "193fa0dc"
      },
      "outputs": [],
      "source": [
        "# Helper function to visualize 2D points X with labels +1 or -1\n",
        "def plot_points(X, Y):\n",
        "    reds = []\n",
        "    blues = []\n",
        "    for i in range(Y.shape[0]):\n",
        "        if Y[i] == 1:\n",
        "            reds.append(X[i])\n",
        "        else:\n",
        "            blues.append(X[i])\n",
        "    reds = np.array(reds)\n",
        "    blues = np.array(blues)\n",
        "    plt.scatter(reds[:, 0], reds[:, 1], c = 'r')\n",
        "    plt.scatter(blues[:, 0], blues[:, 1], c = 'b')"
      ],
      "id": "193fa0dc"
    },
    {
      "cell_type": "code",
      "execution_count": null,
      "metadata": {
        "colab": {
          "base_uri": "https://localhost:8080/",
          "height": 265
        },
        "id": "4e30d978",
        "outputId": "119c3c00-1b1e-41c1-e072-f70bee8a2e3f"
      },
      "outputs": [
        {
          "output_type": "display_data",
          "data": {
            "text/plain": [
              "<Figure size 432x288 with 1 Axes>"
            ],
            "image/png": "[encoded data removed]"
          },
          "metadata": {
            "needs_background": "light"
          }
        }
      ],
      "source": [
        "# Create Synthetic Data and visualize the points\n",
        "X = np.array([[-3.5, -1], [-3, 0], [-3, 1], [-2.7, -1.3], [-2, -1], [-2, -2.7],   \n",
        "              [-1, -2.5], [0, -3], [-1.1, 0], [0, 2.5], [1, 2], [0.7, 4], \n",
        "              [2.1, 0.2], [2.3, 1], [2.8, 1.8], [2.2, 2.8]])\n",
        "y = np.array([1, 1, 1, 1, 1, 1, 1, 1, -1, -1, -1, -1, -1, -1, -1, -1])\n",
        "\n",
        "z = np.array([[-3.5, -1], [-3, 0], [-3, 1], [-2.7, -1.3], [-2, -1], [-2, -2.7], \n",
        "              [-1, -2.5], [0, -3], [-1.1, 0], [0, 2.5], [1, 2], [0.7, 4], \n",
        "              [2.1, 0.2], [2.3, 1], [2.8, 1.8], [2.2, 2.8]])\n",
        "\n",
        "\n",
        "\n",
        "\n",
        "\n",
        "\n",
        "plot_points(X, y)\n",
        "plt.show()"
      ],
      "id": "4e30d978"
    },
    {
      "cell_type": "markdown",
      "metadata": {
        "id": "f0e5df93"
      },
      "source": [
        "In the next cell you are required to find the Quadratic Constrained Quadratic form of SVM **without soft constraints** from the basic principles (check the svm slides uploaded in the portal). Start with the idea that SVM tries to maximize the margin and then derive the form which you can feed to the solver.\n",
        "\n",
        "Please print the values of w, b. \n",
        "\n",
        "**Note: You are also required to upload a page of the derivation. You may also type it in markdown here**\n",
        "\n",
        "**Note: You cannot use sklearn SVM functions here**"
      ],
      "id": "f0e5df93"
    },
    {
      "cell_type": "markdown",
      "metadata": {
        "id": "dErnL9tjH-2P"
      },
      "source": [
        "optimization problem: \n",
        "\n",
        "# **used for hard constraints**\n",
        "\n",
        "**minimize**: (1/2) * ||w||^2 \n",
        "\n",
        "**wrt**: y_i * (w^T @x_i + b) >= 1 \n",
        "\n",
        "\n",
        "\n",
        "---\n",
        "\n",
        "\n",
        "\n",
        "---\n",
        "\n",
        "\n",
        "\n",
        "# **used for soft constraints**\n",
        "\n",
        "**minimize**: (1/2) * ||w||^2 + C * sum(max(0, 1 - y_i * (w^T @ x_i + b))) \n",
        "\n",
        "**wrt**: y_i * (w^T @x_i + b) >= 1 - z_i,  z_i >= 0\n",
        "\n",
        "\n",
        "Here, **w** and **b** are the weight vector and bias term, respectively.\n",
        "**C** is the regularization parameter that controls the trade-off between the margin width and the number of margin violations. \n",
        "\n",
        "The variables **z_i** are slack variables that allow for some misclassification errors.\n",
        "\n"
      ],
      "id": "dErnL9tjH-2P"
    },
    {
      "cell_type": "markdown",
      "metadata": {
        "id": "zQ4HOphjM3DL"
      },
      "source": [
        "\n",
        "\n",
        "---\n",
        "The equivalent Lagrangian form (dual form):\n",
        "\n",
        "L(alpha) = sum(alpha_i) - 1/2 * sum(sum(alpha_i * alpha_j * y_i * y_j * x_i^T x_j))\n",
        "\n",
        "wrt: alpha_i >= 0 and sum(alpha_i * y_i)  = 0\n"
      ],
      "id": "zQ4HOphjM3DL"
    },
    {
      "cell_type": "code",
      "execution_count": null,
      "metadata": {
        "id": "84197274"
      },
      "outputs": [],
      "source": [
        "def svm_fit(X,y):\n",
        "  m,n = np.shape(X)\n",
        "\n",
        "  W = cp.Variable(n) # Weight matrix\n",
        "\n",
        "  b = cp.Variable() # Gamma term\n",
        "  \n",
        "  constraints = [ y[i]*(X[i] @ W + b) - 1 >= 0 for i in range(m)]\n",
        "  objective = cp.Minimize(cp.square(cp.norm(W))/2) \n",
        "\n",
        "  prob = cp.Problem(objective, constraints)\n",
        "  prob. solve()\n",
        "\n",
        "  print(\"optimal value of W:\", W.value)\n",
        "  print(\"optimal value of b:\", b.value)\n",
        "\n",
        "  return W.value, b.value\n",
        "\n",
        "\n",
        "\n",
        "\n",
        "\n"
      ],
      "id": "84197274"
    },
    {
      "cell_type": "code",
      "execution_count": null,
      "metadata": {
        "id": "nCmy1s12r2lv"
      },
      "outputs": [],
      "source": [
        "def plot_svm(w0,w1,b,X,y):\n",
        "  plot_points(X, y)\n",
        "  x1 = np.linspace(-4, 4, 50)\n",
        "  x2 = -(w0*x1 + b)/w1\n",
        "  plt.plot(x1, x2, 'k-')\n",
        "  x2 = -(w0*x1 + b + 1)/w1\n",
        "  plt.plot(x1, x2, 'k--')\n",
        "  x2 = -(w0*x1 + b - 1)/w1\n",
        "  plt.plot(x1, x2, 'k--')\n",
        "  plt.show()\n",
        "\n",
        "\n",
        "\n"
      ],
      "id": "nCmy1s12r2lv"
    },
    {
      "cell_type": "code",
      "execution_count": null,
      "metadata": {
        "colab": {
          "base_uri": "https://localhost:8080/"
        },
        "id": "7oCYR53ismMp",
        "outputId": "9d32583b-b8c9-43f6-c1f1-61f7bc2c7a5d"
      },
      "outputs": [
        {
          "output_type": "stream",
          "name": "stdout",
          "text": [
            "optimal value of W: [-1.73913043 -1.30434783]\n",
            "optimal value of b: -2.9130434780347696\n"
          ]
        }
      ],
      "source": [
        "w,b = svm_fit(X,y)\n",
        "\n"
      ],
      "id": "7oCYR53ismMp"
    },
    {
      "cell_type": "markdown",
      "metadata": {
        "id": "GF8bWbJspNf3"
      },
      "source": [],
      "id": "GF8bWbJspNf3"
    },
    {
      "cell_type": "markdown",
      "metadata": {
        "id": "a9b1e0da"
      },
      "source": [
        "In the next cell you are required to visualize the boundary predicted by the solver. You may want to revise up on how to plot the a line given w, b. Please plot w vector as well as the margin lines.\n",
        "\n",
        "Create a function to plot the line of separation as you would require this frequently in the subsequent parts of the assignment."
      ],
      "id": "a9b1e0da"
    },
    {
      "cell_type": "code",
      "execution_count": null,
      "metadata": {
        "colab": {
          "base_uri": "https://localhost:8080/",
          "height": 265
        },
        "id": "5f96d4d6",
        "outputId": "23878c53-c7f7-4f1b-cdbe-b07fd9e5a0ee"
      },
      "outputs": [
        {
          "output_type": "display_data",
          "data": {
            "text/plain": [
              "<Figure size 432x288 with 1 Axes>"
            ],
            "image/png": "[encoded data removed]"
          },
          "metadata": {
            "needs_background": "light"
          }
        }
      ],
      "source": [
        "# Write your code here\n",
        "plot_svm(w[0],w[1],b,X,y)"
      ],
      "id": "5f96d4d6"
    },
    {
      "cell_type": "markdown",
      "metadata": {
        "id": "658b1a66"
      },
      "source": [
        "In the next cell add the following points:\n",
        "* (-4, -10) with label 1\n",
        "* (4, 4) with label -1\n",
        "\n",
        "Is the decision boundary changed after adding the points? Plot it. Explain your observations theoretically."
      ],
      "id": "658b1a66"
    },
    {
      "cell_type": "code",
      "execution_count": null,
      "metadata": {
        "colab": {
          "base_uri": "https://localhost:8080/"
        },
        "id": "80306b81",
        "outputId": "c5180947-3bb4-476e-ab0a-3113209751ef"
      },
      "outputs": [
        {
          "output_type": "execute_result",
          "data": {
            "text/plain": [
              "(18,)"
            ]
          },
          "metadata": {},
          "execution_count": 8
        }
      ],
      "source": [
        "# Re-create the Synthetic Data by adding the points and visualize the points\n",
        "toinsert = np.array([[-4,-10],[4,4]])\n",
        "lable = np.array([1,-1])\n",
        "x = np.vstack((X,toinsert))\n",
        "Y = np.concatenate((y,lable))\n",
        "Y.shape"
      ],
      "id": "80306b81"
    },
    {
      "cell_type": "code",
      "execution_count": null,
      "metadata": {
        "colab": {
          "base_uri": "https://localhost:8080/",
          "height": 299
        },
        "id": "b261003f",
        "outputId": "f4d55745-68cc-4dd7-9108-25e8bf72ce9d"
      },
      "outputs": [
        {
          "output_type": "stream",
          "name": "stdout",
          "text": [
            "optimal value of W: [-1.73913043 -1.30434783]\n",
            "optimal value of b: -2.913043478291523\n"
          ]
        },
        {
          "output_type": "display_data",
          "data": {
            "text/plain": [
              "<Figure size 432x288 with 1 Axes>"
            ],
            "image/png": "[encoded data removed]"
          },
          "metadata": {
            "needs_background": "light"
          }
        }
      ],
      "source": [
        "# Solve for the decision boundary using this modified dataset\n",
        "w,b = svm_fit(x,Y)\n",
        "plot_svm(w[0],w[1],b,x,Y)\n",
        "# plot_points(x,Y)"
      ],
      "id": "b261003f"
    },
    {
      "cell_type": "markdown",
      "metadata": {
        "id": "0f1cf9f3"
      },
      "source": [
        "In the next cell you are required to modify your framing of optimisation problem to incorporate soft constraints also known as slack. Plot the decision boundary, w and margin lines for various values of C: $0.01$, $0.1$, $3$, $10$, $100$.\n",
        "\n",
        "Explain your results theoretically. How does the boundary change with varying values of C? Why?\n",
        "\n",
        "**Note: Use the modified X and y i.e after adding points in previous cell**"
      ],
      "id": "0f1cf9f3"
    },
    {
      "cell_type": "code",
      "execution_count": null,
      "metadata": {
        "id": "6LO0T_yp115B"
      },
      "outputs": [],
      "source": [
        "\n",
        "def svm_fit_optimized(X,y,c):\n",
        "  m,n = np.shape(X)\n",
        "\n",
        "  W = cp.Variable(n) # Weight matrix\n",
        "  Psi = cp.Variable(m) #slack variable\n",
        "  b = cp.Variable() # Gamma term\n",
        "  C = c\n",
        "  constraints = [ (y[i]*(X[i] @ W + b) - 1 + Psi[i] >= 0) for i in range(m)]\n",
        "  constraints += [Psi[i] >=0  for i in range(m)]\n",
        "  objective = cp.Minimize(cp.square(cp.norm(W))/2 + C*cp.sum(Psi)) \n",
        "\n",
        "  prob = cp.Problem(objective, constraints)\n",
        "  prob. solve()\n",
        "\n",
        "  print(\"optimal value of W:\", W.value)\n",
        "  print(\"optimal value of b:\", b.value)\n",
        "\n",
        "  return W.value, b.value"
      ],
      "id": "6LO0T_yp115B"
    },
    {
      "cell_type": "code",
      "execution_count": null,
      "metadata": {
        "colab": {
          "base_uri": "https://localhost:8080/",
          "height": 299
        },
        "id": "ce4f034f",
        "outputId": "49cea19b-c805-48b7-eb79-66df9cf379f1"
      },
      "outputs": [
        {
          "output_type": "stream",
          "name": "stdout",
          "text": [
            "optimal value of W: [-0.22506619 -0.19858782]\n",
            "optimal value of b: 0.01368050664778419\n"
          ]
        },
        {
          "output_type": "display_data",
          "data": {
            "text/plain": [
              "<Figure size 432x288 with 1 Axes>"
            ],
            "image/png": "[encoded data removed]"
          },
          "metadata": {
            "needs_background": "light"
          }
        }
      ],
      "source": [
        "# Write your code here for C= 0.01\n",
        "\n",
        "w,b = svm_fit_optimized(X,y,0.01)\n",
        "plot_svm(w[0],w[1],b,X,y)"
      ],
      "id": "ce4f034f"
    },
    {
      "cell_type": "code",
      "execution_count": null,
      "metadata": {
        "colab": {
          "base_uri": "https://localhost:8080/",
          "height": 299
        },
        "id": "dbefa5fe",
        "outputId": "75fdb6f4-fa7e-4708-ccc7-290f9424e787"
      },
      "outputs": [
        {
          "output_type": "stream",
          "name": "stdout",
          "text": [
            "optimal value of W: [-0.38493724 -0.35146444]\n",
            "optimal value of b: -0.12133891206805861\n"
          ]
        },
        {
          "output_type": "display_data",
          "data": {
            "text/plain": [
              "<Figure size 432x288 with 1 Axes>"
            ],
            "image/png": "[encoded data removed]"
          },
          "metadata": {
            "needs_background": "light"
          }
        }
      ],
      "source": [
        "# Write your code here for C= 0.1\n",
        "w,b = svm_fit_optimized(X,y,0.1)\n",
        "plot_svm(w[0],w[1],b,X,y)"
      ],
      "id": "dbefa5fe"
    },
    {
      "cell_type": "code",
      "execution_count": null,
      "metadata": {
        "colab": {
          "base_uri": "https://localhost:8080/",
          "height": 299
        },
        "id": "6ae9583d",
        "outputId": "543e3de2-c9f4-459d-8abe-9232e61d8ed7"
      },
      "outputs": [
        {
          "output_type": "stream",
          "name": "stdout",
          "text": [
            "optimal value of W: [-1.73913043 -1.30434783]\n",
            "optimal value of b: -2.913043478232309\n"
          ]
        },
        {
          "output_type": "display_data",
          "data": {
            "text/plain": [
              "<Figure size 432x288 with 1 Axes>"
            ],
            "image/png": "[encoded data removed]"
          },
          "metadata": {
            "needs_background": "light"
          }
        }
      ],
      "source": [
        "# Write your code here for C= 3\n",
        "w,b = svm_fit_optimized(X,y,3)\n",
        "plot_svm(w[0],w[1],b,X,y)"
      ],
      "id": "6ae9583d"
    },
    {
      "cell_type": "code",
      "execution_count": null,
      "metadata": {
        "colab": {
          "base_uri": "https://localhost:8080/",
          "height": 299
        },
        "id": "5d38823c",
        "outputId": "88c044af-0320-4c31-ad36-3ac6f75a2ccc"
      },
      "outputs": [
        {
          "output_type": "stream",
          "name": "stdout",
          "text": [
            "optimal value of W: [-1.73913043 -1.30434783]\n",
            "optimal value of b: -2.9130434784825505\n"
          ]
        },
        {
          "output_type": "display_data",
          "data": {
            "text/plain": [
              "<Figure size 432x288 with 1 Axes>"
            ],
            "image/png": "[encoded data removed]"
          },
          "metadata": {
            "needs_background": "light"
          }
        }
      ],
      "source": [
        "# Write your code here for C= 10\n",
        "w,b = svm_fit_optimized(X,y,10)\n",
        "plot_svm(w[0],w[1],b,X,y)"
      ],
      "id": "5d38823c"
    },
    {
      "cell_type": "code",
      "execution_count": null,
      "metadata": {
        "colab": {
          "base_uri": "https://localhost:8080/",
          "height": 299
        },
        "id": "c19a80ac",
        "outputId": "bc2412da-b51c-4eb6-e819-5d8816cb81cf"
      },
      "outputs": [
        {
          "output_type": "stream",
          "name": "stdout",
          "text": [
            "optimal value of W: [-1.73913043 -1.30434783]\n",
            "optimal value of b: -2.9130434782683894\n"
          ]
        },
        {
          "output_type": "display_data",
          "data": {
            "text/plain": [
              "<Figure size 432x288 with 1 Axes>"
            ],
            "image/png": "[encoded data removed]"
          },
          "metadata": {
            "needs_background": "light"
          }
        }
      ],
      "source": [
        "# Write your code here for C= 100\n",
        "w,b = svm_fit_optimized(X,y,100)\n",
        "plot_svm(w[0],w[1],b,X,y)\n",
        "\n",
        "#[-3, 1] [-2, -1] [0, -3], [-1.1, 0]"
      ],
      "id": "c19a80ac"
    },
    {
      "cell_type": "markdown",
      "metadata": {
        "id": "2df4e54a"
      },
      "source": [
        "Take the case of C = 100 and remove the support vectors. Does the boundary change after the deletion? Explain why?"
      ],
      "id": "2df4e54a"
    },
    {
      "cell_type": "code",
      "execution_count": null,
      "metadata": {
        "colab": {
          "base_uri": "https://localhost:8080/"
        },
        "id": "efd0de52",
        "outputId": "40783817-56f4-4884-8e78-425ac79bc6af"
      },
      "outputs": [
        {
          "output_type": "stream",
          "name": "stdout",
          "text": [
            "optimal value of W: [-1.73913043 -1.30434783]\n",
            "optimal value of b: -2.9130434782683894\n"
          ]
        }
      ],
      "source": [
        "# Write your Code here\n",
        "w,b = svm_fit_optimized(X,y,100)\n",
        "toremove = []\n",
        "w0,w1 = w[0],w[1]\n",
        "for i in range(X.shape[0]):\n",
        "  prediction = np.dot(w, X[i]) + b + 1\n",
        "  margin = y[i] * prediction \n",
        "  if margin <= 1:\n",
        "      toremove.append(i)\n",
        "for i in range(X.shape[0]):\n",
        "  prediction = np.dot(w, X[i]) + b - 1\n",
        "  margin = y[i] * prediction\n",
        "  if margin <= 1:\n",
        "      toremove.append(i)\n",
        "\n"
      ],
      "id": "efd0de52"
    },
    {
      "cell_type": "code",
      "execution_count": null,
      "metadata": {
        "id": "XpRLUTnr7PJg"
      },
      "outputs": [],
      "source": [
        "X_train_new = np.delete(X, toremove, axis=0)\n",
        "y_train_new = np.delete(y, toremove)"
      ],
      "id": "XpRLUTnr7PJg"
    },
    {
      "cell_type": "code",
      "execution_count": null,
      "metadata": {
        "colab": {
          "base_uri": "https://localhost:8080/"
        },
        "id": "DNT302OB_txW",
        "outputId": "757eba5b-1c06-4444-b3a7-a041ab800f2c"
      },
      "outputs": [
        {
          "output_type": "stream",
          "name": "stdout",
          "text": [
            "optimal value of W: [-0.39344364 -0.32786764]\n",
            "optimal value of b: -0.18033091031353635\n"
          ]
        }
      ],
      "source": [
        "w,b = svm_fit_optimized(X_train_new,y_train_new,100)"
      ],
      "id": "DNT302OB_txW"
    },
    {
      "cell_type": "code",
      "execution_count": null,
      "metadata": {
        "colab": {
          "base_uri": "https://localhost:8080/",
          "height": 268
        },
        "id": "xC0fsvBD_zFf",
        "outputId": "7b262743-0549-443c-a1c8-484c1e93dcfe"
      },
      "outputs": [
        {
          "output_type": "display_data",
          "data": {
            "text/plain": [
              "<Figure size 432x288 with 1 Axes>"
            ],
            "image/png": "[encoded data removed]"
          },
          "metadata": {
            "needs_background": "light"
          }
        }
      ],
      "source": [
        "plot_svm(w[0],w[1],b,X_train_new,y_train_new)"
      ],
      "id": "xC0fsvBD_zFf"
    },
    {
      "cell_type": "markdown",
      "metadata": {
        "id": "5112cd3f"
      },
      "source": [
        "### Subsection 2"
      ],
      "id": "5112cd3f"
    },
    {
      "cell_type": "code",
      "execution_count": null,
      "metadata": {
        "colab": {
          "base_uri": "https://localhost:8080/"
        },
        "id": "3e8e2de6",
        "outputId": "901736a6-80fe-4a24-ce35-c9f725eed78c"
      },
      "outputs": [
        {
          "output_type": "stream",
          "name": "stdout",
          "text": [
            "Looking in indexes: https://pypi.org/simple, https://us-python.pkg.dev/colab-wheels/public/simple/\n",
            "Collecting python-mnist\n",
            "  Downloading python_mnist-0.7-py2.py3-none-any.whl (9.6 kB)\n",
            "Installing collected packages: python-mnist\n",
            "Successfully installed python-mnist-0.7\n",
            "--2023-03-23 05:18:04--  http://yann.lecun.com/exdb/mnist/train-images-idx3-ubyte.gz\n",
            "Resolving yann.lecun.com (yann.lecun.com)... 104.21.29.36, 172.67.171.76, 2606:4700:3034::6815:1d24, ...\n",
            "Connecting to yann.lecun.com (yann.lecun.com)|104.21.29.36|:80... connected.\n",
            "HTTP request sent, awaiting response... 200 OK\n",
            "Length: 9912422 (9.5M) [application/x-gzip]\n",
            "Saving to: ‘samples/train-images-idx3-ubyte.gz’\n",
            "\n",
            "train-images-idx3-u 100%[===================>]   9.45M  --.-KB/s    in 0.1s    \n",
            "\n",
            "2023-03-23 05:18:04 (85.8 MB/s) - ‘samples/train-images-idx3-ubyte.gz’ saved [9912422/9912422]\n",
            "\n",
            "--2023-03-23 05:18:05--  http://yann.lecun.com/exdb/mnist/train-labels-idx1-ubyte.gz\n",
            "Resolving yann.lecun.com (yann.lecun.com)... 104.21.29.36, 172.67.171.76, 2606:4700:3034::6815:1d24, ...\n",
            "Connecting to yann.lecun.com (yann.lecun.com)|104.21.29.36|:80... connected.\n",
            "HTTP request sent, awaiting response... 200 OK\n",
            "Length: 28881 (28K) [application/x-gzip]\n",
            "Saving to: ‘samples/train-labels-idx1-ubyte.gz’\n",
            "\n",
            "train-labels-idx1-u 100%[===================>]  28.20K  --.-KB/s    in 0.001s  \n",
            "\n",
            "2023-03-23 05:18:05 (40.4 MB/s) - ‘samples/train-labels-idx1-ubyte.gz’ saved [28881/28881]\n",
            "\n",
            "--2023-03-23 05:18:05--  http://yann.lecun.com/exdb/mnist/t10k-images-idx3-ubyte.gz\n",
            "Resolving yann.lecun.com (yann.lecun.com)... 104.21.29.36, 172.67.171.76, 2606:4700:3034::6815:1d24, ...\n",
            "Connecting to yann.lecun.com (yann.lecun.com)|104.21.29.36|:80... connected.\n",
            "HTTP request sent, awaiting response... 200 OK\n",
            "Length: 1648877 (1.6M) [application/x-gzip]\n",
            "Saving to: ‘samples/t10k-images-idx3-ubyte.gz’\n",
            "\n",
            "t10k-images-idx3-ub 100%[===================>]   1.57M  --.-KB/s    in 0.07s   \n",
            "\n",
            "2023-03-23 05:18:05 (23.4 MB/s) - ‘samples/t10k-images-idx3-ubyte.gz’ saved [1648877/1648877]\n",
            "\n",
            "--2023-03-23 05:18:05--  http://yann.lecun.com/exdb/mnist/t10k-labels-idx1-ubyte.gz\n",
            "Resolving yann.lecun.com (yann.lecun.com)... 104.21.29.36, 172.67.171.76, 2606:4700:3034::6815:1d24, ...\n",
            "Connecting to yann.lecun.com (yann.lecun.com)|104.21.29.36|:80... connected.\n",
            "HTTP request sent, awaiting response... 200 OK\n",
            "Length: 4542 (4.4K) [application/x-gzip]\n",
            "Saving to: ‘samples/t10k-labels-idx1-ubyte.gz’\n",
            "\n",
            "t10k-labels-idx1-ub 100%[===================>]   4.44K  --.-KB/s    in 0s      \n",
            "\n",
            "2023-03-23 05:18:05 (765 MB/s) - ‘samples/t10k-labels-idx1-ubyte.gz’ saved [4542/4542]\n",
            "\n"
          ]
        }
      ],
      "source": [
        "!pip install python-mnist\n",
        "!rm -rf samples\n",
        "!mkdir samples\n",
        "!wget http://yann.lecun.com/exdb/mnist/train-images-idx3-ubyte.gz -P samples/\n",
        "!gunzip samples/train-images-idx3-ubyte.gz\n",
        "!wget http://yann.lecun.com/exdb/mnist/train-labels-idx1-ubyte.gz -P samples/\n",
        "!gunzip samples/train-labels-idx1-ubyte.gz\n",
        "!wget http://yann.lecun.com/exdb/mnist/t10k-images-idx3-ubyte.gz -P samples/\n",
        "!gunzip samples/t10k-images-idx3-ubyte.gz\n",
        "!wget http://yann.lecun.com/exdb/mnist/t10k-labels-idx1-ubyte.gz -P samples/\n",
        "!gunzip samples/t10k-labels-idx1-ubyte.gz"
      ],
      "id": "3e8e2de6"
    },
    {
      "cell_type": "code",
      "execution_count": null,
      "metadata": {
        "id": "af8d27d7"
      },
      "outputs": [],
      "source": [
        "# Import Relevant Packages\n",
        "from sklearn.svm import SVC\n",
        "import numpy as np\n",
        "from mnist.loader import MNIST"
      ],
      "id": "af8d27d7"
    },
    {
      "cell_type": "code",
      "execution_count": null,
      "metadata": {
        "colab": {
          "base_uri": "https://localhost:8080/"
        },
        "id": "71500275",
        "outputId": "76b72246-f653-43e8-fcf7-6db4d7839753"
      },
      "outputs": [
        {
          "output_type": "stream",
          "name": "stdout",
          "text": [
            "(60000, 784)\n",
            "(60000,)\n"
          ]
        }
      ],
      "source": [
        "mndata = MNIST('samples')\n",
        "\n",
        "# Load training dataset\n",
        "images, labels = mndata.load_training()\n",
        "l = len(labels)\n",
        "images_train = np.array(images)\n",
        "labels_train = np.array(labels)\n",
        "\n",
        "print(images_train.shape)\n",
        "print(labels_train.shape)"
      ],
      "id": "71500275"
    },
    {
      "cell_type": "code",
      "execution_count": null,
      "metadata": {
        "colab": {
          "base_uri": "https://localhost:8080/"
        },
        "id": "eec20e4f",
        "outputId": "ccaa5667-b3a8-48f5-c5b0-b56d135c3bf2"
      },
      "outputs": [
        {
          "output_type": "stream",
          "name": "stdout",
          "text": [
            "(10000, 784)\n",
            "(10000,)\n"
          ]
        }
      ],
      "source": [
        "# Load testing dataset\n",
        "images, labels = mndata.load_testing()\n",
        "l = len(labels)\n",
        "images_test = np.array(images)\n",
        "labels_test = np.array(labels)\n",
        "\n",
        "print(images_test.shape)\n",
        "print(labels_test.shape)"
      ],
      "id": "eec20e4f"
    },
    {
      "cell_type": "markdown",
      "metadata": {
        "id": "c5ddaf4a"
      },
      "source": [
        "- Tweak different parameters like the C Parameter and gamma parameter of the Linear SVM and report the results.\n",
        "- Experiment different kernels (Linear, Polynomial, RBF, Sigmoid) for classification and report the results.\n",
        "\n",
        "Report accuracy score, F1-score, Confusion matrix and any other metrics you feel useful."
      ],
      "id": "c5ddaf4a"
    },
    {
      "cell_type": "code",
      "execution_count": null,
      "metadata": {
        "id": "4e138279"
      },
      "outputs": [],
      "source": [
        "# use this subset of data for training and testing\n",
        "\n",
        "batch = 3000\n",
        "X_train = images_train[:batch,:]\n",
        "y_train = labels_train[:batch]\n",
        "\n",
        "X_test = images_test[batch:2*batch,:]\n",
        "y_test = labels_test[batch:2*batch]"
      ],
      "id": "4e138279"
    },
    {
      "cell_type": "code",
      "execution_count": null,
      "metadata": {
        "colab": {
          "base_uri": "https://localhost:8080/"
        },
        "id": "ddd6a92f",
        "outputId": "133ed818-b48b-49a2-9f59-f44b3d833dfe"
      },
      "outputs": [
        {
          "output_type": "stream",
          "name": "stdout",
          "text": [
            "(3000, 784)\n",
            "(3000,)\n",
            "(3000, 784)\n",
            "(3000,)\n"
          ]
        }
      ],
      "source": [
        "print(X_train.shape)\n",
        "print(y_train.shape)\n",
        "print(X_test.shape)\n",
        "print(y_test.shape)"
      ],
      "id": "ddd6a92f"
    },
    {
      "cell_type": "code",
      "execution_count": null,
      "metadata": {
        "id": "d5c07655"
      },
      "outputs": [],
      "source": [
        "from sklearn.svm import SVC\n",
        "from sklearn.metrics import accuracy_score, f1_score, confusion_matrix\n",
        "\n",
        "def Svc_linear(C ,X_train,y_train,X_test,y_test,g = \"scale\"):\n",
        "  linear_svm = SVC(kernel='linear',C = C,gamma=g)\n",
        "\n",
        "  linear_svm.fit(X_train, y_train)\n",
        "\n",
        "  y_pred = linear_svm.predict(X_test)\n",
        "\n",
        "  acc = accuracy_score(y_test, y_pred)\n",
        "  f1 = f1_score(y_test, y_pred,average = \"weighted\")\n",
        "  cm = confusion_matrix(y_test, y_pred)\n",
        "\n",
        "\n",
        "\n",
        "  print(f\"[Accuracy score: {acc}]\")\n",
        "  print(f\"[F1-score: {f1}]\")\n",
        "  print(f\"Confusion matrix:\\n{cm}\") \n",
        "\n",
        "def Svc_poly(degree,X_train,y_train,X_test,y_test):\n",
        "  poly_svm = SVC(kernel='poly', degree=degree)\n",
        "\n",
        "  poly_svm.fit(X_train, y_train)\n",
        "\n",
        "  y_pred = poly_svm.predict(X_test)\n",
        "\n",
        "  acc = accuracy_score(y_test, y_pred)\n",
        "  f1 = f1_score(y_test, y_pred, average='weighted')\n",
        "  cm = confusion_matrix(y_test, y_pred)\n",
        "  \n",
        "  print(f\"[Accuracy score: {acc}]\")\n",
        "  print(f\"[F1-score: {f1}]\")\n",
        "  print(f\"Confusion matrix:\\n{cm}\") \n",
        "\n",
        "\n",
        "\n",
        "def Svm_sigmoid(X_train,y_train,X_test,y_test):\n",
        "  sigmoid_svm = SVC(kernel='sigmoid')\n",
        "  sigmoid_svm.fit(X_train, y_train)\n",
        "  y_pred = sigmoid_svm.predict(X_test)\n",
        "  acc = accuracy_score(y_test, y_pred)\n",
        "  f1 = f1_score(y_test, y_pred, average='weighted')\n",
        "  cm = confusion_matrix(y_test, y_pred)\n",
        "\n",
        "  print(f\"[Accuracy score: {acc}]\")\n",
        "  print(f\"[F1-score: {f1}]\")\n",
        "  print(f\"Confusion matrix:\\n{cm}\") \n",
        "\n",
        "def Svm_RBF(X_train,y_train,X_test,y_test):\n",
        "  sigmoid_svm = SVC(kernel='rbf')\n",
        "  sigmoid_svm.fit(X_train, y_train)\n",
        "  y_pred = sigmoid_svm.predict(X_test)\n",
        "  acc = accuracy_score(y_test, y_pred)\n",
        "  f1 = f1_score(y_test, y_pred, average='weighted')\n",
        "  cm = confusion_matrix(y_test, y_pred)\n",
        "\n",
        "  print(f\"[Accuracy score: {acc}]\")\n",
        "  print(f\"[F1-score: {f1}]\")\n",
        "  print(f\"Confusion matrix:\\n{cm}\") "
      ],
      "id": "d5c07655"
    },
    {
      "cell_type": "code",
      "execution_count": null,
      "metadata": {
        "id": "3C2Ny7vYGCGP"
      },
      "outputs": [],
      "source": [],
      "id": "3C2Ny7vYGCGP"
    },
    {
      "cell_type": "code",
      "execution_count": null,
      "metadata": {
        "colab": {
          "base_uri": "https://localhost:8080/"
        },
        "id": "3QEr23V9IFxo",
        "outputId": "fa32b85b-cdd2-40bd-a6a7-e5d24c962137"
      },
      "outputs": [
        {
          "output_type": "stream",
          "name": "stdout",
          "text": [
            "<<------------------  linear SVM model with C=0.1 and gamma = 1 ----------------->>\n",
            "[Accuracy score: 0.8893333333333333]\n",
            "[F1-score: 0.8890444070271425]\n",
            "Confusion matrix:\n",
            "[[288   0   4   0   1   1   1   1   1   0]\n",
            " [  0 339   1   2   0   1   2   1   0   0]\n",
            " [  3   5 286   6   4   0   1   4   3   0]\n",
            " [  3   2   8 237   0  18   0   3   5   3]\n",
            " [  1   1   5   0 250   0   3   1   0  20]\n",
            " [  3   2   1  14   1 226   2   3  11   2]\n",
            " [  6   0   8   0   7   6 260   2   1   0]\n",
            " [  0   4  10   5   2   0   1 259   2  20]\n",
            " [  4   3   2  13   6  19   3   2 245   4]\n",
            " [  2   5   3   7  18   1   0  11   1 278]]\n",
            "<<------------------- linear SVM model with C=10 and gamma = 0.001 ------------------>>\n",
            "[Accuracy score: 0.8893333333333333]\n",
            "[F1-score: 0.8890444070271425]\n",
            "Confusion matrix:\n",
            "[[288   0   4   0   1   1   1   1   1   0]\n",
            " [  0 339   1   2   0   1   2   1   0   0]\n",
            " [  3   5 286   6   4   0   1   4   3   0]\n",
            " [  3   2   8 237   0  18   0   3   5   3]\n",
            " [  1   1   5   0 250   0   3   1   0  20]\n",
            " [  3   2   1  14   1 226   2   3  11   2]\n",
            " [  6   0   8   0   7   6 260   2   1   0]\n",
            " [  0   4  10   5   2   0   1 259   2  20]\n",
            " [  4   3   2  13   6  19   3   2 245   4]\n",
            " [  2   5   3   7  18   1   0  11   1 278]]\n",
            "<<------------------  linear SVM model with C=0.1 and gamma = 0.001 ----------------->>\n",
            "[Accuracy score: 0.8893333333333333]\n",
            "[F1-score: 0.8890444070271425]\n",
            "Confusion matrix:\n",
            "[[288   0   4   0   1   1   1   1   1   0]\n",
            " [  0 339   1   2   0   1   2   1   0   0]\n",
            " [  3   5 286   6   4   0   1   4   3   0]\n",
            " [  3   2   8 237   0  18   0   3   5   3]\n",
            " [  1   1   5   0 250   0   3   1   0  20]\n",
            " [  3   2   1  14   1 226   2   3  11   2]\n",
            " [  6   0   8   0   7   6 260   2   1   0]\n",
            " [  0   4  10   5   2   0   1 259   2  20]\n",
            " [  4   3   2  13   6  19   3   2 245   4]\n",
            " [  2   5   3   7  18   1   0  11   1 278]]\n",
            "<<------------------- linear SVM model with C=10 and gamma = 1------------------>>\n",
            "[Accuracy score: 0.8893333333333333]\n",
            "[F1-score: 0.8890444070271425]\n",
            "Confusion matrix:\n",
            "[[288   0   4   0   1   1   1   1   1   0]\n",
            " [  0 339   1   2   0   1   2   1   0   0]\n",
            " [  3   5 286   6   4   0   1   4   3   0]\n",
            " [  3   2   8 237   0  18   0   3   5   3]\n",
            " [  1   1   5   0 250   0   3   1   0  20]\n",
            " [  3   2   1  14   1 226   2   3  11   2]\n",
            " [  6   0   8   0   7   6 260   2   1   0]\n",
            " [  0   4  10   5   2   0   1 259   2  20]\n",
            " [  4   3   2  13   6  19   3   2 245   4]\n",
            " [  2   5   3   7  18   1   0  11   1 278]]\n",
            "<<------------------- polynomial SVM and degree=2 ------------------>>\n",
            "[Accuracy score: 0.9256666666666666]\n",
            "[F1-score: 0.9254440841013397]\n",
            "Confusion matrix:\n",
            "[[289   0   2   0   1   1   2   1   1   0]\n",
            " [  0 342   1   2   0   0   1   0   0   0]\n",
            " [  0   2 294   5   3   0   1   5   2   0]\n",
            " [  0   4   6 251   0   8   0   4   5   1]\n",
            " [  1   1   2   0 266   0   3   0   0   8]\n",
            " [  2   1   0   7   0 245   3   1   4   2]\n",
            " [  4   0   4   0   5   2 275   0   0   0]\n",
            " [  0   8   5   0   5   0   1 263   1  20]\n",
            " [  0   4   2   9   3  12   1   2 265   3]\n",
            " [  1   4   1   5  20   0   0   7   1 287]]\n",
            "<<------------------- polynomial SVM and degree=4 ------------------>>\n",
            "[Accuracy score: 0.8803333333333333]\n",
            "[F1-score: 0.8824924395892508]\n",
            "Confusion matrix:\n",
            "[[268  14   0   0   1   9   3   0   2   0]\n",
            " [  0 343   1   2   0   0   0   0   0   0]\n",
            " [  2  25 269   3   1   1   0   9   2   0]\n",
            " [  1  21   2 236   1   8   0   4   5   1]\n",
            " [  1  13   2   0 248   0   4   0   0  13]\n",
            " [  1  18   0   6   1 230   2   0   6   1]\n",
            " [  5  19   0   0   7   2 257   0   0   0]\n",
            " [  0  19   5   0   4   0   1 255   1  18]\n",
            " [  5  12   1   6   9   9   0   3 253   3]\n",
            " [  0  13   0   4  20   3   0   4   0 282]]\n",
            "<<------------------- Sigmoid SVM  ------------------>>\n",
            "[Accuracy score: 0.8416666666666667]\n",
            "[F1-score: 0.8415846613672942]\n",
            "Confusion matrix:\n",
            "[[278   0   2   0   0  15   2   0   0   0]\n",
            " [  0 339   0   3   0   3   1   0   0   0]\n",
            " [  8   5 271   5   5   5   1   4   7   1]\n",
            " [  6   2  12 210   1  37   0   5   3   3]\n",
            " [  4   2   2   0 247   1   5   1   0  19]\n",
            " [  9   4   0  33   3 200   2   1  11   2]\n",
            " [ 15   0  14   0   6  11 243   0   1   0]\n",
            " [  3   9   6   0   5   1   0 251   3  25]\n",
            " [  5   8   6   9   5  21   4   4 230   9]\n",
            " [  6   3   5   4  30   4   0  15   3 256]]\n",
            "<<------------------- RBF SVM ------------------>>\n",
            "[Accuracy score: 0.9336666666666666]\n",
            "[F1-score: 0.9335360184266112]\n",
            "Confusion matrix:\n",
            "[[293   0   1   0   1   1   1   0   0   0]\n",
            " [  0 339   2   2   0   1   1   1   0   0]\n",
            " [  0   0 298   5   2   0   1   3   3   0]\n",
            " [  1   0   5 256   0   9   0   4   4   0]\n",
            " [  1   1   2   0 267   0   3   0   0   7]\n",
            " [  2   1   0   7   0 248   3   1   1   2]\n",
            " [  5   0   5   0   3   5 272   0   0   0]\n",
            " [  0   6   6   1   1   0   0 265   2  22]\n",
            " [  0   1   2   5   3   9   2   3 271   5]\n",
            " [  2   3   1   5  17   1   0   4   1 292]]\n"
          ]
        }
      ],
      "source": [
        "  # Train and test a linear SVM model with C=0.1\n",
        "print(\"<<------------------  linear SVM model with C=0.1 and gamma = 1 ----------------->>\")\n",
        "Svc_linear(0.1,X_train,y_train,X_test,y_test,1)\n",
        "\n",
        "print(\"<<------------------- linear SVM model with C=10 and gamma = 0.001 ------------------>>\")\n",
        "# Train and test a linear SVM model with C=10\n",
        "\n",
        "Svc_linear(10,X_train,y_train,X_test,y_test,0.001)\n",
        "\n",
        "# Train and test a linear SVM model with C=0.1\n",
        "print(\"<<------------------  linear SVM model with C=0.1 and gamma = 0.001 ----------------->>\")\n",
        "Svc_linear(0.1,X_train,y_train,X_test,y_test,0.001)\n",
        "\n",
        "print(\"<<------------------- linear SVM model with C=10 and gamma = 1------------------>>\")\n",
        "# Train and test a linear SVM model with C=10\n",
        "\n",
        "Svc_linear(10,X_train,y_train,X_test,y_test,0.01)\n",
        "\n",
        "\n",
        "\n",
        "# Train and test a polynomial SVM model with degree=2\n",
        "print(\"<<------------------- polynomial SVM and degree=2 ------------------>>\")\n",
        "Svc_poly(2,X_train,y_train,X_test,y_test)\n",
        "\n",
        "\n",
        "# Train and test a polynomial SVM model with degree=4\n",
        "print(\"<<------------------- polynomial SVM and degree=4 ------------------>>\")\n",
        "Svc_poly(4,X_train,y_train,X_test,y_test)\n",
        "\n",
        "\n",
        "# Train and test a Sigmoid SVM model\n",
        "print(\"<<------------------- Sigmoid SVM  ------------------>>\")\n",
        "Svm_sigmoid(X_train,y_train,X_test,y_test)\n",
        "\n",
        "# Train and test a  RBF SVM model\n",
        "print(\"<<------------------- RBF SVM ------------------>>\")\n",
        "Svm_RBF(X_train,y_train,X_test,y_test)\n",
        "\n",
        "\n",
        "\n"
      ],
      "id": "3QEr23V9IFxo"
    },
    {
      "cell_type": "code",
      "execution_count": null,
      "metadata": {
        "id": "S9_UUMuBIu1l"
      },
      "outputs": [],
      "source": [],
      "id": "S9_UUMuBIu1l"
    }
  ],
  "metadata": {
    "colab": {
      "provenance": [],
      "include_colab_link": true
    },
    "kernelspec": {
      "display_name": "Python 3 (ipykernel)",
      "language": "python",
      "name": "python3"
    },
    "language_info": {
      "codemirror_mode": {
        "name": "ipython",
        "version": 3
      },
      "file_extension": ".py",
      "mimetype": "text/x-python",
      "name": "python",
      "nbconvert_exporter": "python",
      "pygments_lexer": "ipython3",
      "version": "3.9.15"
    }
  },
  "nbformat": 4,
  "nbformat_minor": 5
}